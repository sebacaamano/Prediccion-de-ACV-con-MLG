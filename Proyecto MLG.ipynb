{
 "cells": [
  {
   "cell_type": "markdown",
   "id": "31f42d60",
   "metadata": {},
   "source": [
    "# Proyecto accidentes cerebrovasculares \n",
    "## Modelos lineales generalizados\n",
    "### Autores:*Sebastian Caamaño*, *Cristobal Collao*, *América Suárez*\n",
    "#### 15 noviembre 2021"
   ]
  },
  {
   "cell_type": "code",
   "execution_count": 1,
   "id": "16f30116",
   "metadata": {},
   "outputs": [
    {
     "name": "stderr",
     "output_type": "stream",
     "text": [
      "-- \u001b[1mAttaching packages\u001b[22m ------------------------------------------------------------------------------- tidyverse 1.3.1 --\n",
      "\n",
      "\u001b[32mv\u001b[39m \u001b[34mggplot2\u001b[39m 3.3.5     \u001b[32mv\u001b[39m \u001b[34mpurrr  \u001b[39m 0.3.4\n",
      "\u001b[32mv\u001b[39m \u001b[34mtibble \u001b[39m 3.1.4     \u001b[32mv\u001b[39m \u001b[34mdplyr  \u001b[39m 1.0.7\n",
      "\u001b[32mv\u001b[39m \u001b[34mtidyr  \u001b[39m 1.1.3     \u001b[32mv\u001b[39m \u001b[34mstringr\u001b[39m 1.4.0\n",
      "\u001b[32mv\u001b[39m \u001b[34mreadr  \u001b[39m 2.0.1     \u001b[32mv\u001b[39m \u001b[34mforcats\u001b[39m 0.5.1\n",
      "\n",
      "-- \u001b[1mConflicts\u001b[22m ---------------------------------------------------------------------------------- tidyverse_conflicts() --\n",
      "\u001b[31mx\u001b[39m \u001b[34mdplyr\u001b[39m::\u001b[32mfilter()\u001b[39m masks \u001b[34mstats\u001b[39m::filter()\n",
      "\u001b[31mx\u001b[39m \u001b[34mdplyr\u001b[39m::\u001b[32mlag()\u001b[39m    masks \u001b[34mstats\u001b[39m::lag()\n",
      "\n",
      "\n",
      "Attaching package: 'psych'\n",
      "\n",
      "\n",
      "The following objects are masked from 'package:ggplot2':\n",
      "\n",
      "    %+%, alpha\n",
      "\n",
      "\n",
      "\n",
      "Attaching package: 'gridExtra'\n",
      "\n",
      "\n",
      "The following object is masked from 'package:dplyr':\n",
      "\n",
      "    combine\n",
      "\n",
      "\n",
      "Registered S3 method overwritten by 'GGally':\n",
      "  method from   \n",
      "  +.gg   ggplot2\n",
      "\n",
      "Warning message:\n",
      "\"package 'readxl' was built under R version 4.1.2\"\n",
      "Loading required package: lattice\n",
      "\n",
      "Loading required package: survival\n",
      "\n",
      "Loading required package: Formula\n",
      "\n",
      "\n",
      "Attaching package: 'Hmisc'\n",
      "\n",
      "\n",
      "The following object is masked from 'package:psych':\n",
      "\n",
      "    describe\n",
      "\n",
      "\n",
      "The following objects are masked from 'package:dplyr':\n",
      "\n",
      "    src, summarize\n",
      "\n",
      "\n",
      "The following objects are masked from 'package:base':\n",
      "\n",
      "    format.pval, units\n",
      "\n",
      "\n",
      "Warning message:\n",
      "\"package 'boot' was built under R version 4.1.2\"\n",
      "\n",
      "Attaching package: 'boot'\n",
      "\n",
      "\n",
      "The following object is masked from 'package:survival':\n",
      "\n",
      "    aml\n",
      "\n",
      "\n",
      "The following object is masked from 'package:lattice':\n",
      "\n",
      "    melanoma\n",
      "\n",
      "\n",
      "The following object is masked from 'package:psych':\n",
      "\n",
      "    logit\n",
      "\n",
      "\n",
      "Warning message:\n",
      "\"package 'rsample' was built under R version 4.1.2\"\n",
      "Warning message:\n",
      "\"package 'pscl' was built under R version 4.1.2\"\n",
      "Classes and Methods for R developed in the\n",
      "Political Science Computational Laboratory\n",
      "Department of Political Science\n",
      "Stanford University\n",
      "Simon Jackman\n",
      "hurdle and zeroinfl functions by Achim Zeileis\n",
      "\n",
      "\n",
      "Attaching package: 'MASS'\n",
      "\n",
      "\n",
      "The following object is masked from 'package:dplyr':\n",
      "\n",
      "    select\n",
      "\n",
      "\n"
     ]
    }
   ],
   "source": [
    "library(tidyverse)\n",
    "library(psych)\n",
    "library(gridExtra)\n",
    "library(GGally)\n",
    "library(readxl)\n",
    "library(Hmisc)\n",
    "library(boot)\n",
    "library(rsample)\n",
    "library(pscl)\n",
    "library(MASS)"
   ]
  },
  {
   "cell_type": "code",
   "execution_count": 2,
   "id": "28bc0f4e",
   "metadata": {},
   "outputs": [],
   "source": [
    "set.seed(030409)"
   ]
  },
  {
   "cell_type": "markdown",
   "id": "9c4a7537",
   "metadata": {},
   "source": [
    "## Presentación de los datos\n",
    "La base de datos que se usa para el desarrollo de este proyecto son con respecto de distintas variables: \n",
    "\n",
    "    ° id-> Identificador.\n",
    "    ° gender-> Género: Femenino(Female), Masculino(Male).\n",
    "    ° age-> Edad del individuo.\n",
    "    ° hypertension-> Hipertentensión: 0 si el individuo no presenta hipertensión, 1 si presenta hipertensión.\n",
    "    ° heart_disease-> Enfermedad al corazón: 0 si no presenta enfermedad al corazón, 1 si presenta.\n",
    "    ° ever_married-> Alguna vez casado: sí, no.\n",
    "    ° work_type-> Tipo de trabajo: Niño(children), Trabajo de gobierno(Govt_jov), Nunca ha trabajado(Never_worked), Privado           (Private), Independiente (Self-employed).\n",
    "    ° Residence_type-> Tipo de residencia: Rural, Urbana(Urban).\n",
    "    ° avg_glucose_level-> Nivel medio de glucosa en la sangre.\n",
    "    ° bmi-> Indice de masa coorporal\n",
    "    ° smoking_status-> Estado fumador: anteriormente fumador(formerly smoked), nunca(never smoked), fuma(smokes),                     desconocido(unknown).\n",
    "    ° stroke-> Accidente cerebrovascular: 1 el individuo presento un accidente cerebrovascular, 0 no se presento.\n",
    "A lo largo de esta presentación se realizará un análisis descriptivo de la base de datos."
   ]
  },
  {
   "cell_type": "markdown",
   "id": "f5b48dc4",
   "metadata": {},
   "source": [
    "## Problema\n",
    "En el contexto de la salud pública, los derrames cerebrales se presenta como la segunda causa de muerte responsable de aproximadamente un $11\\%$ de las muertes en el mundo segun la Organizacion Mundial de la Salud (OMS). Frente a esto es necesario crear modelos para intentar prever la ocurrencia de estos. Para esto utilizaremos el dataset disponible con la finalidad de suministrar un modelo utilizable en la prevencion de los derrames cerebrales."
   ]
  },
  {
   "cell_type": "markdown",
   "id": "0b7bb193",
   "metadata": {},
   "source": [
    "## Posible solución\n",
    "Frente a esta problemática disponemos con un dataset con los que podremos diferenciar que factores se consideran de mayor riesgo y más determinantes en el riesgo de padecer un derrame cerebral. Nuestra variable de respuesta será la probabilidad de sufrir un derrame cerebral "
   ]
  },
  {
   "cell_type": "markdown",
   "id": "0fe83f2d",
   "metadata": {},
   "source": [
    "## Tipo de modelo a utilizar\n",
    "El posible modelo que se utilizará en el conjunto de datos será el modelo logístico."
   ]
  },
  {
   "cell_type": "markdown",
   "id": "dbbdec56",
   "metadata": {},
   "source": [
    "### Análisis descriptivo y visualización de los datos\n",
    "*Se lee la data y a simple vista se observan N/A en la variable bmi*"
   ]
  },
  {
   "cell_type": "code",
   "execution_count": 3,
   "id": "e628b35b",
   "metadata": {},
   "outputs": [
    {
     "data": {
      "text/html": [
       "<table class=\"dataframe\">\n",
       "<caption>A data.frame: 6 × 12</caption>\n",
       "<thead>\n",
       "\t<tr><th></th><th scope=col>id</th><th scope=col>gender</th><th scope=col>age</th><th scope=col>hypertension</th><th scope=col>heart_disease</th><th scope=col>ever_married</th><th scope=col>work_type</th><th scope=col>Residence_type</th><th scope=col>avg_glucose_level</th><th scope=col>bmi</th><th scope=col>smoking_status</th><th scope=col>stroke</th></tr>\n",
       "\t<tr><th></th><th scope=col>&lt;int&gt;</th><th scope=col>&lt;chr&gt;</th><th scope=col>&lt;dbl&gt;</th><th scope=col>&lt;int&gt;</th><th scope=col>&lt;int&gt;</th><th scope=col>&lt;chr&gt;</th><th scope=col>&lt;chr&gt;</th><th scope=col>&lt;chr&gt;</th><th scope=col>&lt;dbl&gt;</th><th scope=col>&lt;chr&gt;</th><th scope=col>&lt;chr&gt;</th><th scope=col>&lt;int&gt;</th></tr>\n",
       "</thead>\n",
       "<tbody>\n",
       "\t<tr><th scope=row>1</th><td> 9046</td><td>Male  </td><td>67</td><td>0</td><td>1</td><td>Yes</td><td>Private      </td><td>Urban</td><td>228.69</td><td>36.6</td><td>formerly smoked</td><td>1</td></tr>\n",
       "\t<tr><th scope=row>2</th><td>51676</td><td>Female</td><td>61</td><td>0</td><td>0</td><td>Yes</td><td>Self-employed</td><td>Rural</td><td>202.21</td><td>N/A </td><td>never smoked   </td><td>1</td></tr>\n",
       "\t<tr><th scope=row>3</th><td>31112</td><td>Male  </td><td>80</td><td>0</td><td>1</td><td>Yes</td><td>Private      </td><td>Rural</td><td>105.92</td><td>32.5</td><td>never smoked   </td><td>1</td></tr>\n",
       "\t<tr><th scope=row>4</th><td>60182</td><td>Female</td><td>49</td><td>0</td><td>0</td><td>Yes</td><td>Private      </td><td>Urban</td><td>171.23</td><td>34.4</td><td>smokes         </td><td>1</td></tr>\n",
       "\t<tr><th scope=row>5</th><td> 1665</td><td>Female</td><td>79</td><td>1</td><td>0</td><td>Yes</td><td>Self-employed</td><td>Rural</td><td>174.12</td><td>24  </td><td>never smoked   </td><td>1</td></tr>\n",
       "\t<tr><th scope=row>6</th><td>56669</td><td>Male  </td><td>81</td><td>0</td><td>0</td><td>Yes</td><td>Private      </td><td>Urban</td><td>186.21</td><td>29  </td><td>formerly smoked</td><td>1</td></tr>\n",
       "</tbody>\n",
       "</table>\n"
      ],
      "text/latex": [
       "A data.frame: 6 × 12\n",
       "\\begin{tabular}{r|llllllllllll}\n",
       "  & id & gender & age & hypertension & heart\\_disease & ever\\_married & work\\_type & Residence\\_type & avg\\_glucose\\_level & bmi & smoking\\_status & stroke\\\\\n",
       "  & <int> & <chr> & <dbl> & <int> & <int> & <chr> & <chr> & <chr> & <dbl> & <chr> & <chr> & <int>\\\\\n",
       "\\hline\n",
       "\t1 &  9046 & Male   & 67 & 0 & 1 & Yes & Private       & Urban & 228.69 & 36.6 & formerly smoked & 1\\\\\n",
       "\t2 & 51676 & Female & 61 & 0 & 0 & Yes & Self-employed & Rural & 202.21 & N/A  & never smoked    & 1\\\\\n",
       "\t3 & 31112 & Male   & 80 & 0 & 1 & Yes & Private       & Rural & 105.92 & 32.5 & never smoked    & 1\\\\\n",
       "\t4 & 60182 & Female & 49 & 0 & 0 & Yes & Private       & Urban & 171.23 & 34.4 & smokes          & 1\\\\\n",
       "\t5 &  1665 & Female & 79 & 1 & 0 & Yes & Self-employed & Rural & 174.12 & 24   & never smoked    & 1\\\\\n",
       "\t6 & 56669 & Male   & 81 & 0 & 0 & Yes & Private       & Urban & 186.21 & 29   & formerly smoked & 1\\\\\n",
       "\\end{tabular}\n"
      ],
      "text/markdown": [
       "\n",
       "A data.frame: 6 × 12\n",
       "\n",
       "| <!--/--> | id &lt;int&gt; | gender &lt;chr&gt; | age &lt;dbl&gt; | hypertension &lt;int&gt; | heart_disease &lt;int&gt; | ever_married &lt;chr&gt; | work_type &lt;chr&gt; | Residence_type &lt;chr&gt; | avg_glucose_level &lt;dbl&gt; | bmi &lt;chr&gt; | smoking_status &lt;chr&gt; | stroke &lt;int&gt; |\n",
       "|---|---|---|---|---|---|---|---|---|---|---|---|---|\n",
       "| 1 |  9046 | Male   | 67 | 0 | 1 | Yes | Private       | Urban | 228.69 | 36.6 | formerly smoked | 1 |\n",
       "| 2 | 51676 | Female | 61 | 0 | 0 | Yes | Self-employed | Rural | 202.21 | N/A  | never smoked    | 1 |\n",
       "| 3 | 31112 | Male   | 80 | 0 | 1 | Yes | Private       | Rural | 105.92 | 32.5 | never smoked    | 1 |\n",
       "| 4 | 60182 | Female | 49 | 0 | 0 | Yes | Private       | Urban | 171.23 | 34.4 | smokes          | 1 |\n",
       "| 5 |  1665 | Female | 79 | 1 | 0 | Yes | Self-employed | Rural | 174.12 | 24   | never smoked    | 1 |\n",
       "| 6 | 56669 | Male   | 81 | 0 | 0 | Yes | Private       | Urban | 186.21 | 29   | formerly smoked | 1 |\n",
       "\n"
      ],
      "text/plain": [
       "  id    gender age hypertension heart_disease ever_married work_type    \n",
       "1  9046 Male   67  0            1             Yes          Private      \n",
       "2 51676 Female 61  0            0             Yes          Self-employed\n",
       "3 31112 Male   80  0            1             Yes          Private      \n",
       "4 60182 Female 49  0            0             Yes          Private      \n",
       "5  1665 Female 79  1            0             Yes          Self-employed\n",
       "6 56669 Male   81  0            0             Yes          Private      \n",
       "  Residence_type avg_glucose_level bmi  smoking_status  stroke\n",
       "1 Urban          228.69            36.6 formerly smoked 1     \n",
       "2 Rural          202.21            N/A  never smoked    1     \n",
       "3 Rural          105.92            32.5 never smoked    1     \n",
       "4 Urban          171.23            34.4 smokes          1     \n",
       "5 Rural          174.12            24   never smoked    1     \n",
       "6 Urban          186.21            29   formerly smoked 1     "
      ]
     },
     "metadata": {},
     "output_type": "display_data"
    }
   ],
   "source": [
    "df=read.csv(\"healthcare-dataset-stroke-data.csv\")\n",
    "head(df)"
   ]
  },
  {
   "cell_type": "markdown",
   "id": "a79e7b03",
   "metadata": {},
   "source": [
    "Calculamos el promedio de valores faltantes para observar si podemos hacer una imputacion de datos con el promedio de bmi, la imputacion se realizara si $sig\\_na$ es menor al $2%$"
   ]
  },
  {
   "cell_type": "code",
   "execution_count": 4,
   "id": "b8dbd546",
   "metadata": {},
   "outputs": [
    {
     "data": {
      "text/html": [
       "0.039334637964775"
      ],
      "text/latex": [
       "0.039334637964775"
      ],
      "text/markdown": [
       "0.039334637964775"
      ],
      "text/plain": [
       "[1] 0.03933464"
      ]
     },
     "metadata": {},
     "output_type": "display_data"
    }
   ],
   "source": [
    "valores_na=filter(df, bmi =='N/A')\n",
    "sig_na=dim(valores_na)[1]/dim(df)[1]\n",
    "sig_na"
   ]
  },
  {
   "cell_type": "markdown",
   "id": "84c1e789",
   "metadata": {},
   "source": [
    "*Se observan las dimensiones de la data, en donde exiten $12$ columnas y $5110$ filas, es decir, $5110$ individuos participaron del estudio*"
   ]
  },
  {
   "cell_type": "code",
   "execution_count": 5,
   "id": "e3c85577",
   "metadata": {},
   "outputs": [
    {
     "data": {
      "text/html": [
       "<style>\n",
       ".list-inline {list-style: none; margin:0; padding: 0}\n",
       ".list-inline>li {display: inline-block}\n",
       ".list-inline>li:not(:last-child)::after {content: \"\\00b7\"; padding: 0 .5ex}\n",
       "</style>\n",
       "<ol class=list-inline><li>5110</li><li>12</li></ol>\n"
      ],
      "text/latex": [
       "\\begin{enumerate*}\n",
       "\\item 5110\n",
       "\\item 12\n",
       "\\end{enumerate*}\n"
      ],
      "text/markdown": [
       "1. 5110\n",
       "2. 12\n",
       "\n",
       "\n"
      ],
      "text/plain": [
       "[1] 5110   12"
      ]
     },
     "metadata": {},
     "output_type": "display_data"
    }
   ],
   "source": [
    "dim(df)"
   ]
  },
  {
   "cell_type": "markdown",
   "id": "c6bb2506",
   "metadata": {},
   "source": [
    "*La variable id no aporta información por ende se elimina. Luego los N/A de la variable bmi se asignan como valores perdidos y se transfroman a numericos, para luego proceder a reemplazarlos. En la variable gender(género) se encuentra solo un individuo que se identifica como otro, por lo que se elimino, para más adelante transformar los datos a binarios.*"
   ]
  },
  {
   "cell_type": "code",
   "execution_count": 6,
   "id": "d78cc109",
   "metadata": {},
   "outputs": [],
   "source": [
    "data = df[,-c(1)]\n",
    "data$bmi = ifelse(data$bmi == 'N/A', NA, data$bmi)\n",
    "data$bmi = as.numeric(data$bmi)\n",
    "\n",
    "data = data[!(data$gender == 'Other'),]"
   ]
  },
  {
   "cell_type": "markdown",
   "id": "57c932c9",
   "metadata": {},
   "source": [
    "*A continuación se cambiaron los 1 y 0 de algunas variables con su respectiva atribución para visualizar con mayor facilidad los datos*"
   ]
  },
  {
   "cell_type": "code",
   "execution_count": 7,
   "id": "c6e70370",
   "metadata": {},
   "outputs": [],
   "source": [
    "data$stroke_t = ifelse(data$stroke == 1, 'stroke', 'no stroke') \n",
    "data$stroke_t = factor(data$stroke_t)\n",
    "\n",
    "data$hypertension = ifelse(data$hypertension == 1, 'hypertension', 'no hypertension') \n",
    "data$hypertension = factor(data$hypertension)\n",
    "\n",
    "data$heart_disease = ifelse(data$heart_disease == 1, 'heart disease', 'no heart disease') \n",
    "data$heart_disease = factor(data$heart_disease)"
   ]
  },
  {
   "cell_type": "markdown",
   "id": "487caec2",
   "metadata": {},
   "source": [
    "*Observamos la data con los cambios realizados*"
   ]
  },
  {
   "cell_type": "code",
   "execution_count": 8,
   "id": "f305e120",
   "metadata": {},
   "outputs": [
    {
     "data": {
      "text/html": [
       "<style>\n",
       ".list-inline {list-style: none; margin:0; padding: 0}\n",
       ".list-inline>li {display: inline-block}\n",
       ".list-inline>li:not(:last-child)::after {content: \"\\00b7\"; padding: 0 .5ex}\n",
       "</style>\n",
       "<ol class=list-inline><li>2210</li><li>12</li></ol>\n"
      ],
      "text/latex": [
       "\\begin{enumerate*}\n",
       "\\item 2210\n",
       "\\item 12\n",
       "\\end{enumerate*}\n"
      ],
      "text/markdown": [
       "1. 2210\n",
       "2. 12\n",
       "\n",
       "\n"
      ],
      "text/plain": [
       "[1] 2210   12"
      ]
     },
     "metadata": {},
     "output_type": "display_data"
    },
    {
     "data": {
      "text/html": [
       "<table class=\"dataframe\">\n",
       "<caption>A data.frame: 6 × 12</caption>\n",
       "<thead>\n",
       "\t<tr><th></th><th scope=col>gender</th><th scope=col>age</th><th scope=col>hypertension</th><th scope=col>heart_disease</th><th scope=col>ever_married</th><th scope=col>work_type</th><th scope=col>Residence_type</th><th scope=col>avg_glucose_level</th><th scope=col>bmi</th><th scope=col>smoking_status</th><th scope=col>stroke</th><th scope=col>stroke_t</th></tr>\n",
       "\t<tr><th></th><th scope=col>&lt;chr&gt;</th><th scope=col>&lt;dbl&gt;</th><th scope=col>&lt;fct&gt;</th><th scope=col>&lt;fct&gt;</th><th scope=col>&lt;chr&gt;</th><th scope=col>&lt;chr&gt;</th><th scope=col>&lt;chr&gt;</th><th scope=col>&lt;dbl&gt;</th><th scope=col>&lt;dbl&gt;</th><th scope=col>&lt;chr&gt;</th><th scope=col>&lt;int&gt;</th><th scope=col>&lt;fct&gt;</th></tr>\n",
       "</thead>\n",
       "<tbody>\n",
       "\t<tr><th scope=row>1</th><td>Male  </td><td>67</td><td>no hypertension</td><td>heart disease   </td><td>Yes</td><td>Private      </td><td>Urban</td><td>228.69</td><td>36.6</td><td>formerly smoked</td><td>1</td><td>stroke</td></tr>\n",
       "\t<tr><th scope=row>2</th><td>Female</td><td>61</td><td>no hypertension</td><td>no heart disease</td><td>Yes</td><td>Self-employed</td><td>Rural</td><td>202.21</td><td>  NA</td><td>never smoked   </td><td>1</td><td>stroke</td></tr>\n",
       "\t<tr><th scope=row>3</th><td>Male  </td><td>80</td><td>no hypertension</td><td>heart disease   </td><td>Yes</td><td>Private      </td><td>Rural</td><td>105.92</td><td>32.5</td><td>never smoked   </td><td>1</td><td>stroke</td></tr>\n",
       "\t<tr><th scope=row>4</th><td>Female</td><td>79</td><td>hypertension   </td><td>no heart disease</td><td>Yes</td><td>Self-employed</td><td>Rural</td><td>174.12</td><td>24.0</td><td>never smoked   </td><td>1</td><td>stroke</td></tr>\n",
       "\t<tr><th scope=row>5</th><td>Male  </td><td>81</td><td>no hypertension</td><td>no heart disease</td><td>Yes</td><td>Private      </td><td>Urban</td><td>186.21</td><td>29.0</td><td>formerly smoked</td><td>1</td><td>stroke</td></tr>\n",
       "\t<tr><th scope=row>6</th><td>Male  </td><td>74</td><td>hypertension   </td><td>heart disease   </td><td>Yes</td><td>Private      </td><td>Rural</td><td> 70.09</td><td>27.4</td><td>never smoked   </td><td>1</td><td>stroke</td></tr>\n",
       "</tbody>\n",
       "</table>\n"
      ],
      "text/latex": [
       "A data.frame: 6 × 12\n",
       "\\begin{tabular}{r|llllllllllll}\n",
       "  & gender & age & hypertension & heart\\_disease & ever\\_married & work\\_type & Residence\\_type & avg\\_glucose\\_level & bmi & smoking\\_status & stroke & stroke\\_t\\\\\n",
       "  & <chr> & <dbl> & <fct> & <fct> & <chr> & <chr> & <chr> & <dbl> & <dbl> & <chr> & <int> & <fct>\\\\\n",
       "\\hline\n",
       "\t1 & Male   & 67 & no hypertension & heart disease    & Yes & Private       & Urban & 228.69 & 36.6 & formerly smoked & 1 & stroke\\\\\n",
       "\t2 & Female & 61 & no hypertension & no heart disease & Yes & Self-employed & Rural & 202.21 &   NA & never smoked    & 1 & stroke\\\\\n",
       "\t3 & Male   & 80 & no hypertension & heart disease    & Yes & Private       & Rural & 105.92 & 32.5 & never smoked    & 1 & stroke\\\\\n",
       "\t4 & Female & 79 & hypertension    & no heart disease & Yes & Self-employed & Rural & 174.12 & 24.0 & never smoked    & 1 & stroke\\\\\n",
       "\t5 & Male   & 81 & no hypertension & no heart disease & Yes & Private       & Urban & 186.21 & 29.0 & formerly smoked & 1 & stroke\\\\\n",
       "\t6 & Male   & 74 & hypertension    & heart disease    & Yes & Private       & Rural &  70.09 & 27.4 & never smoked    & 1 & stroke\\\\\n",
       "\\end{tabular}\n"
      ],
      "text/markdown": [
       "\n",
       "A data.frame: 6 × 12\n",
       "\n",
       "| <!--/--> | gender &lt;chr&gt; | age &lt;dbl&gt; | hypertension &lt;fct&gt; | heart_disease &lt;fct&gt; | ever_married &lt;chr&gt; | work_type &lt;chr&gt; | Residence_type &lt;chr&gt; | avg_glucose_level &lt;dbl&gt; | bmi &lt;dbl&gt; | smoking_status &lt;chr&gt; | stroke &lt;int&gt; | stroke_t &lt;fct&gt; |\n",
       "|---|---|---|---|---|---|---|---|---|---|---|---|---|\n",
       "| 1 | Male   | 67 | no hypertension | heart disease    | Yes | Private       | Urban | 228.69 | 36.6 | formerly smoked | 1 | stroke |\n",
       "| 2 | Female | 61 | no hypertension | no heart disease | Yes | Self-employed | Rural | 202.21 |   NA | never smoked    | 1 | stroke |\n",
       "| 3 | Male   | 80 | no hypertension | heart disease    | Yes | Private       | Rural | 105.92 | 32.5 | never smoked    | 1 | stroke |\n",
       "| 4 | Female | 79 | hypertension    | no heart disease | Yes | Self-employed | Rural | 174.12 | 24.0 | never smoked    | 1 | stroke |\n",
       "| 5 | Male   | 81 | no hypertension | no heart disease | Yes | Private       | Urban | 186.21 | 29.0 | formerly smoked | 1 | stroke |\n",
       "| 6 | Male   | 74 | hypertension    | heart disease    | Yes | Private       | Rural |  70.09 | 27.4 | never smoked    | 1 | stroke |\n",
       "\n"
      ],
      "text/plain": [
       "  gender age hypertension    heart_disease    ever_married work_type    \n",
       "1 Male   67  no hypertension heart disease    Yes          Private      \n",
       "2 Female 61  no hypertension no heart disease Yes          Self-employed\n",
       "3 Male   80  no hypertension heart disease    Yes          Private      \n",
       "4 Female 79  hypertension    no heart disease Yes          Self-employed\n",
       "5 Male   81  no hypertension no heart disease Yes          Private      \n",
       "6 Male   74  hypertension    heart disease    Yes          Private      \n",
       "  Residence_type avg_glucose_level bmi  smoking_status  stroke stroke_t\n",
       "1 Urban          228.69            36.6 formerly smoked 1      stroke  \n",
       "2 Rural          202.21              NA never smoked    1      stroke  \n",
       "3 Rural          105.92            32.5 never smoked    1      stroke  \n",
       "4 Rural          174.12            24.0 never smoked    1      stroke  \n",
       "5 Urban          186.21            29.0 formerly smoked 1      stroke  \n",
       "6 Rural           70.09            27.4 never smoked    1      stroke  "
      ]
     },
     "metadata": {},
     "output_type": "display_data"
    }
   ],
   "source": [
    "data = data.frame(data)\n",
    "data = filter(data,age >= 50)\n",
    "dim(data)\n",
    "head(data)"
   ]
  },
  {
   "cell_type": "markdown",
   "id": "7f0122b9",
   "metadata": {},
   "source": [
    "*A continuación en la variable bmi se omiten los NA, y se calcula el promedio y luego todos los NA los se reemplazan por el promedio obtenido $28.9$*"
   ]
  },
  {
   "cell_type": "code",
   "execution_count": 9,
   "id": "86359781",
   "metadata": {},
   "outputs": [
    {
     "data": {
      "text/html": [
       "<table class=\"dataframe\">\n",
       "<caption>A data.frame: 6 × 12</caption>\n",
       "<thead>\n",
       "\t<tr><th></th><th scope=col>gender</th><th scope=col>age</th><th scope=col>hypertension</th><th scope=col>heart_disease</th><th scope=col>ever_married</th><th scope=col>work_type</th><th scope=col>Residence_type</th><th scope=col>avg_glucose_level</th><th scope=col>bmi</th><th scope=col>smoking_status</th><th scope=col>stroke</th><th scope=col>stroke_t</th></tr>\n",
       "\t<tr><th></th><th scope=col>&lt;chr&gt;</th><th scope=col>&lt;dbl&gt;</th><th scope=col>&lt;fct&gt;</th><th scope=col>&lt;fct&gt;</th><th scope=col>&lt;chr&gt;</th><th scope=col>&lt;chr&gt;</th><th scope=col>&lt;chr&gt;</th><th scope=col>&lt;dbl&gt;</th><th scope=col>&lt;dbl&gt;</th><th scope=col>&lt;chr&gt;</th><th scope=col>&lt;int&gt;</th><th scope=col>&lt;fct&gt;</th></tr>\n",
       "</thead>\n",
       "<tbody>\n",
       "\t<tr><th scope=row>1</th><td>Male  </td><td>67</td><td>no hypertension</td><td>heart disease   </td><td>Yes</td><td>Private      </td><td>Urban</td><td>228.69</td><td>36.6</td><td>formerly smoked</td><td>1</td><td>stroke</td></tr>\n",
       "\t<tr><th scope=row>2</th><td>Female</td><td>61</td><td>no hypertension</td><td>no heart disease</td><td>Yes</td><td>Self-employed</td><td>Rural</td><td>202.21</td><td>  NA</td><td>never smoked   </td><td>1</td><td>stroke</td></tr>\n",
       "\t<tr><th scope=row>3</th><td>Male  </td><td>80</td><td>no hypertension</td><td>heart disease   </td><td>Yes</td><td>Private      </td><td>Rural</td><td>105.92</td><td>32.5</td><td>never smoked   </td><td>1</td><td>stroke</td></tr>\n",
       "\t<tr><th scope=row>4</th><td>Female</td><td>79</td><td>hypertension   </td><td>no heart disease</td><td>Yes</td><td>Self-employed</td><td>Rural</td><td>174.12</td><td>24.0</td><td>never smoked   </td><td>1</td><td>stroke</td></tr>\n",
       "\t<tr><th scope=row>5</th><td>Male  </td><td>81</td><td>no hypertension</td><td>no heart disease</td><td>Yes</td><td>Private      </td><td>Urban</td><td>186.21</td><td>29.0</td><td>formerly smoked</td><td>1</td><td>stroke</td></tr>\n",
       "\t<tr><th scope=row>6</th><td>Male  </td><td>74</td><td>hypertension   </td><td>heart disease   </td><td>Yes</td><td>Private      </td><td>Rural</td><td> 70.09</td><td>27.4</td><td>never smoked   </td><td>1</td><td>stroke</td></tr>\n",
       "</tbody>\n",
       "</table>\n"
      ],
      "text/latex": [
       "A data.frame: 6 × 12\n",
       "\\begin{tabular}{r|llllllllllll}\n",
       "  & gender & age & hypertension & heart\\_disease & ever\\_married & work\\_type & Residence\\_type & avg\\_glucose\\_level & bmi & smoking\\_status & stroke & stroke\\_t\\\\\n",
       "  & <chr> & <dbl> & <fct> & <fct> & <chr> & <chr> & <chr> & <dbl> & <dbl> & <chr> & <int> & <fct>\\\\\n",
       "\\hline\n",
       "\t1 & Male   & 67 & no hypertension & heart disease    & Yes & Private       & Urban & 228.69 & 36.6 & formerly smoked & 1 & stroke\\\\\n",
       "\t2 & Female & 61 & no hypertension & no heart disease & Yes & Self-employed & Rural & 202.21 &   NA & never smoked    & 1 & stroke\\\\\n",
       "\t3 & Male   & 80 & no hypertension & heart disease    & Yes & Private       & Rural & 105.92 & 32.5 & never smoked    & 1 & stroke\\\\\n",
       "\t4 & Female & 79 & hypertension    & no heart disease & Yes & Self-employed & Rural & 174.12 & 24.0 & never smoked    & 1 & stroke\\\\\n",
       "\t5 & Male   & 81 & no hypertension & no heart disease & Yes & Private       & Urban & 186.21 & 29.0 & formerly smoked & 1 & stroke\\\\\n",
       "\t6 & Male   & 74 & hypertension    & heart disease    & Yes & Private       & Rural &  70.09 & 27.4 & never smoked    & 1 & stroke\\\\\n",
       "\\end{tabular}\n"
      ],
      "text/markdown": [
       "\n",
       "A data.frame: 6 × 12\n",
       "\n",
       "| <!--/--> | gender &lt;chr&gt; | age &lt;dbl&gt; | hypertension &lt;fct&gt; | heart_disease &lt;fct&gt; | ever_married &lt;chr&gt; | work_type &lt;chr&gt; | Residence_type &lt;chr&gt; | avg_glucose_level &lt;dbl&gt; | bmi &lt;dbl&gt; | smoking_status &lt;chr&gt; | stroke &lt;int&gt; | stroke_t &lt;fct&gt; |\n",
       "|---|---|---|---|---|---|---|---|---|---|---|---|---|\n",
       "| 1 | Male   | 67 | no hypertension | heart disease    | Yes | Private       | Urban | 228.69 | 36.6 | formerly smoked | 1 | stroke |\n",
       "| 2 | Female | 61 | no hypertension | no heart disease | Yes | Self-employed | Rural | 202.21 |   NA | never smoked    | 1 | stroke |\n",
       "| 3 | Male   | 80 | no hypertension | heart disease    | Yes | Private       | Rural | 105.92 | 32.5 | never smoked    | 1 | stroke |\n",
       "| 4 | Female | 79 | hypertension    | no heart disease | Yes | Self-employed | Rural | 174.12 | 24.0 | never smoked    | 1 | stroke |\n",
       "| 5 | Male   | 81 | no hypertension | no heart disease | Yes | Private       | Urban | 186.21 | 29.0 | formerly smoked | 1 | stroke |\n",
       "| 6 | Male   | 74 | hypertension    | heart disease    | Yes | Private       | Rural |  70.09 | 27.4 | never smoked    | 1 | stroke |\n",
       "\n"
      ],
      "text/plain": [
       "  gender age hypertension    heart_disease    ever_married work_type    \n",
       "1 Male   67  no hypertension heart disease    Yes          Private      \n",
       "2 Female 61  no hypertension no heart disease Yes          Self-employed\n",
       "3 Male   80  no hypertension heart disease    Yes          Private      \n",
       "4 Female 79  hypertension    no heart disease Yes          Self-employed\n",
       "5 Male   81  no hypertension no heart disease Yes          Private      \n",
       "6 Male   74  hypertension    heart disease    Yes          Private      \n",
       "  Residence_type avg_glucose_level bmi  smoking_status  stroke stroke_t\n",
       "1 Urban          228.69            36.6 formerly smoked 1      stroke  \n",
       "2 Rural          202.21              NA never smoked    1      stroke  \n",
       "3 Rural          105.92            32.5 never smoked    1      stroke  \n",
       "4 Rural          174.12            24.0 never smoked    1      stroke  \n",
       "5 Urban          186.21            29.0 formerly smoked 1      stroke  \n",
       "6 Rural           70.09            27.4 never smoked    1      stroke  "
      ]
     },
     "metadata": {},
     "output_type": "display_data"
    }
   ],
   "source": [
    "# eliminamos la imputacion original\n",
    "# data$bmi[is.na(data$bmi)] <- round(mean(na.omit(data$bmi)),1)\n",
    "head(data)"
   ]
  },
  {
   "cell_type": "markdown",
   "id": "31c43c0a",
   "metadata": {},
   "source": [
    "*Se realiza un resumen estadístico para cada variable. En las variables categóricas no se obtiene información relevante solo la cantidad total de individuos, como en genero, alguna vez casado, tipo de trabajo, tipo de residencia, estado fumador. Mientras que para las demás variables categoricas se obtiene el total por cada categoria. Para la edad se obtuvo un promedio de $43$ años, un mínimo de $0.08$ años que vendria siendo menos de un mes, y el máximo es de $82$ años. El nivel mínimo de glucosa en la sangre entre los individuos del estudio es de $55.12$, con una media $106.14$ y un máximo $271.47$. Para el índice de masa corporal se obtuvo un promedio de $28.89$, un máximo de $97.60$  y un mínimo $28.40$ y finalmente para los derrames cerebrales se obtiene una media de $0.048$ el cual no es significativo, ya que es una variable dicotomica, por ende solo existen unos y ceros.*"
   ]
  },
  {
   "cell_type": "code",
   "execution_count": 10,
   "id": "a7470c23",
   "metadata": {},
   "outputs": [
    {
     "data": {
      "text/plain": [
       "    gender               age                 hypertension \n",
       " Length:2210        Min.   :50.00   hypertension   : 412  \n",
       " Class :character   1st Qu.:56.00   no hypertension:1798  \n",
       " Mode  :character   Median :63.00                         \n",
       "                    Mean   :64.68                         \n",
       "                    3rd Qu.:74.00                         \n",
       "                    Max.   :82.00                         \n",
       "                                                          \n",
       "          heart_disease  ever_married        work_type        \n",
       " heart disease   : 261   Length:2210        Length:2210       \n",
       " no heart disease:1949   Class :character   Class :character  \n",
       "                         Mode  :character   Mode  :character  \n",
       "                                                              \n",
       "                                                              \n",
       "                                                              \n",
       "                                                              \n",
       " Residence_type     avg_glucose_level      bmi        smoking_status    \n",
       " Length:2210        Min.   : 55.23    Min.   :11.30   Length:2210       \n",
       " Class :character   1st Qu.: 79.17    1st Qu.:26.40   Class :character  \n",
       " Mode  :character   Median : 95.88    Median :29.70   Mode  :character  \n",
       "                    Mean   :118.44    Mean   :30.66                     \n",
       "                    3rd Qu.:145.34    3rd Qu.:34.10                     \n",
       "                    Max.   :271.74    Max.   :66.80                     \n",
       "                                      NA's   :120                       \n",
       "     stroke            stroke_t   \n",
       " Min.   :0.0000   no stroke:1981  \n",
       " 1st Qu.:0.0000   stroke   : 229  \n",
       " Median :0.0000                   \n",
       " Mean   :0.1036                   \n",
       " 3rd Qu.:0.0000                   \n",
       " Max.   :1.0000                   \n",
       "                                  "
      ]
     },
     "metadata": {},
     "output_type": "display_data"
    }
   ],
   "source": [
    "summary(data)"
   ]
  },
  {
   "cell_type": "markdown",
   "id": "bee8385b",
   "metadata": {},
   "source": [
    "*En el siguiente paso lo que se realizó fue por cada variable, contar la cantidad de individuos por atributo de esa variable(n), y por cada atributo cuanta cuantos accidentes cerebrovasculares estan presentes(derrames), y por otro lado tenemos el porcentaje el cual corresponde a el porcentaje de derrames en ese atributo, mejor dicho a la proporción de derrames presentes en ese atributo.* "
   ]
  },
  {
   "cell_type": "code",
   "execution_count": 11,
   "id": "484ed71b",
   "metadata": {
    "scrolled": false
   },
   "outputs": [
    {
     "data": {
      "text/html": [
       "<table class=\"dataframe\">\n",
       "<caption>A tibble: 2 × 4</caption>\n",
       "<thead>\n",
       "\t<tr><th scope=col>gender</th><th scope=col>porcentaje</th><th scope=col>n</th><th scope=col>derrames</th></tr>\n",
       "\t<tr><th scope=col>&lt;chr&gt;</th><th scope=col>&lt;dbl&gt;</th><th scope=col>&lt;int&gt;</th><th scope=col>&lt;int&gt;</th></tr>\n",
       "</thead>\n",
       "<tbody>\n",
       "\t<tr><td>Female</td><td>0.100</td><td>1273</td><td>127</td></tr>\n",
       "\t<tr><td>Male  </td><td>0.109</td><td> 937</td><td>102</td></tr>\n",
       "</tbody>\n",
       "</table>\n"
      ],
      "text/latex": [
       "A tibble: 2 × 4\n",
       "\\begin{tabular}{llll}\n",
       " gender & porcentaje & n & derrames\\\\\n",
       " <chr> & <dbl> & <int> & <int>\\\\\n",
       "\\hline\n",
       "\t Female & 0.100 & 1273 & 127\\\\\n",
       "\t Male   & 0.109 &  937 & 102\\\\\n",
       "\\end{tabular}\n"
      ],
      "text/markdown": [
       "\n",
       "A tibble: 2 × 4\n",
       "\n",
       "| gender &lt;chr&gt; | porcentaje &lt;dbl&gt; | n &lt;int&gt; | derrames &lt;int&gt; |\n",
       "|---|---|---|---|\n",
       "| Female | 0.100 | 1273 | 127 |\n",
       "| Male   | 0.109 |  937 | 102 |\n",
       "\n"
      ],
      "text/plain": [
       "  gender porcentaje n    derrames\n",
       "1 Female 0.100      1273 127     \n",
       "2 Male   0.109       937 102     "
      ]
     },
     "metadata": {},
     "output_type": "display_data"
    },
    {
     "data": {
      "text/html": [
       "<table class=\"dataframe\">\n",
       "<caption>A tibble: 2 × 4</caption>\n",
       "<thead>\n",
       "\t<tr><th scope=col>hypertension</th><th scope=col>porcentaje</th><th scope=col>n</th><th scope=col>derrames</th></tr>\n",
       "\t<tr><th scope=col>&lt;fct&gt;</th><th scope=col>&lt;dbl&gt;</th><th scope=col>&lt;int&gt;</th><th scope=col>&lt;int&gt;</th></tr>\n",
       "</thead>\n",
       "<tbody>\n",
       "\t<tr><td>hypertension   </td><td>0.158</td><td> 412</td><td> 65</td></tr>\n",
       "\t<tr><td>no hypertension</td><td>0.091</td><td>1798</td><td>164</td></tr>\n",
       "</tbody>\n",
       "</table>\n"
      ],
      "text/latex": [
       "A tibble: 2 × 4\n",
       "\\begin{tabular}{llll}\n",
       " hypertension & porcentaje & n & derrames\\\\\n",
       " <fct> & <dbl> & <int> & <int>\\\\\n",
       "\\hline\n",
       "\t hypertension    & 0.158 &  412 &  65\\\\\n",
       "\t no hypertension & 0.091 & 1798 & 164\\\\\n",
       "\\end{tabular}\n"
      ],
      "text/markdown": [
       "\n",
       "A tibble: 2 × 4\n",
       "\n",
       "| hypertension &lt;fct&gt; | porcentaje &lt;dbl&gt; | n &lt;int&gt; | derrames &lt;int&gt; |\n",
       "|---|---|---|---|\n",
       "| hypertension    | 0.158 |  412 |  65 |\n",
       "| no hypertension | 0.091 | 1798 | 164 |\n",
       "\n"
      ],
      "text/plain": [
       "  hypertension    porcentaje n    derrames\n",
       "1 hypertension    0.158       412  65     \n",
       "2 no hypertension 0.091      1798 164     "
      ]
     },
     "metadata": {},
     "output_type": "display_data"
    },
    {
     "data": {
      "text/html": [
       "<table class=\"dataframe\">\n",
       "<caption>A tibble: 2 × 4</caption>\n",
       "<thead>\n",
       "\t<tr><th scope=col>heart_disease</th><th scope=col>porcentaje</th><th scope=col>n</th><th scope=col>derrames</th></tr>\n",
       "\t<tr><th scope=col>&lt;fct&gt;</th><th scope=col>&lt;dbl&gt;</th><th scope=col>&lt;int&gt;</th><th scope=col>&lt;int&gt;</th></tr>\n",
       "</thead>\n",
       "<tbody>\n",
       "\t<tr><td>heart disease   </td><td>0.180</td><td> 261</td><td> 47</td></tr>\n",
       "\t<tr><td>no heart disease</td><td>0.093</td><td>1949</td><td>182</td></tr>\n",
       "</tbody>\n",
       "</table>\n"
      ],
      "text/latex": [
       "A tibble: 2 × 4\n",
       "\\begin{tabular}{llll}\n",
       " heart\\_disease & porcentaje & n & derrames\\\\\n",
       " <fct> & <dbl> & <int> & <int>\\\\\n",
       "\\hline\n",
       "\t heart disease    & 0.180 &  261 &  47\\\\\n",
       "\t no heart disease & 0.093 & 1949 & 182\\\\\n",
       "\\end{tabular}\n"
      ],
      "text/markdown": [
       "\n",
       "A tibble: 2 × 4\n",
       "\n",
       "| heart_disease &lt;fct&gt; | porcentaje &lt;dbl&gt; | n &lt;int&gt; | derrames &lt;int&gt; |\n",
       "|---|---|---|---|\n",
       "| heart disease    | 0.180 |  261 |  47 |\n",
       "| no heart disease | 0.093 | 1949 | 182 |\n",
       "\n"
      ],
      "text/plain": [
       "  heart_disease    porcentaje n    derrames\n",
       "1 heart disease    0.180       261  47     \n",
       "2 no heart disease 0.093      1949 182     "
      ]
     },
     "metadata": {},
     "output_type": "display_data"
    },
    {
     "data": {
      "text/html": [
       "<table class=\"dataframe\">\n",
       "<caption>A tibble: 2 × 4</caption>\n",
       "<thead>\n",
       "\t<tr><th scope=col>ever_married</th><th scope=col>porcentaje</th><th scope=col>n</th><th scope=col>derrames</th></tr>\n",
       "\t<tr><th scope=col>&lt;chr&gt;</th><th scope=col>&lt;dbl&gt;</th><th scope=col>&lt;int&gt;</th><th scope=col>&lt;int&gt;</th></tr>\n",
       "</thead>\n",
       "<tbody>\n",
       "\t<tr><td>No </td><td>0.140</td><td> 172</td><td> 24</td></tr>\n",
       "\t<tr><td>Yes</td><td>0.101</td><td>2038</td><td>205</td></tr>\n",
       "</tbody>\n",
       "</table>\n"
      ],
      "text/latex": [
       "A tibble: 2 × 4\n",
       "\\begin{tabular}{llll}\n",
       " ever\\_married & porcentaje & n & derrames\\\\\n",
       " <chr> & <dbl> & <int> & <int>\\\\\n",
       "\\hline\n",
       "\t No  & 0.140 &  172 &  24\\\\\n",
       "\t Yes & 0.101 & 2038 & 205\\\\\n",
       "\\end{tabular}\n"
      ],
      "text/markdown": [
       "\n",
       "A tibble: 2 × 4\n",
       "\n",
       "| ever_married &lt;chr&gt; | porcentaje &lt;dbl&gt; | n &lt;int&gt; | derrames &lt;int&gt; |\n",
       "|---|---|---|---|\n",
       "| No  | 0.140 |  172 |  24 |\n",
       "| Yes | 0.101 | 2038 | 205 |\n",
       "\n"
      ],
      "text/plain": [
       "  ever_married porcentaje n    derrames\n",
       "1 No           0.140       172  24     \n",
       "2 Yes          0.101      2038 205     "
      ]
     },
     "metadata": {},
     "output_type": "display_data"
    },
    {
     "data": {
      "text/html": [
       "<table class=\"dataframe\">\n",
       "<caption>A tibble: 3 × 4</caption>\n",
       "<thead>\n",
       "\t<tr><th scope=col>work_type</th><th scope=col>porcentaje</th><th scope=col>n</th><th scope=col>derrames</th></tr>\n",
       "\t<tr><th scope=col>&lt;chr&gt;</th><th scope=col>&lt;dbl&gt;</th><th scope=col>&lt;int&gt;</th><th scope=col>&lt;int&gt;</th></tr>\n",
       "</thead>\n",
       "<tbody>\n",
       "\t<tr><td>Govt_job     </td><td>0.089</td><td> 361</td><td> 32</td></tr>\n",
       "\t<tr><td>Private      </td><td>0.109</td><td>1242</td><td>135</td></tr>\n",
       "\t<tr><td>Self-employed</td><td>0.102</td><td> 607</td><td> 62</td></tr>\n",
       "</tbody>\n",
       "</table>\n"
      ],
      "text/latex": [
       "A tibble: 3 × 4\n",
       "\\begin{tabular}{llll}\n",
       " work\\_type & porcentaje & n & derrames\\\\\n",
       " <chr> & <dbl> & <int> & <int>\\\\\n",
       "\\hline\n",
       "\t Govt\\_job      & 0.089 &  361 &  32\\\\\n",
       "\t Private       & 0.109 & 1242 & 135\\\\\n",
       "\t Self-employed & 0.102 &  607 &  62\\\\\n",
       "\\end{tabular}\n"
      ],
      "text/markdown": [
       "\n",
       "A tibble: 3 × 4\n",
       "\n",
       "| work_type &lt;chr&gt; | porcentaje &lt;dbl&gt; | n &lt;int&gt; | derrames &lt;int&gt; |\n",
       "|---|---|---|---|\n",
       "| Govt_job      | 0.089 |  361 |  32 |\n",
       "| Private       | 0.109 | 1242 | 135 |\n",
       "| Self-employed | 0.102 |  607 |  62 |\n",
       "\n"
      ],
      "text/plain": [
       "  work_type     porcentaje n    derrames\n",
       "1 Govt_job      0.089       361  32     \n",
       "2 Private       0.109      1242 135     \n",
       "3 Self-employed 0.102       607  62     "
      ]
     },
     "metadata": {},
     "output_type": "display_data"
    },
    {
     "data": {
      "text/html": [
       "<table class=\"dataframe\">\n",
       "<caption>A tibble: 2 × 4</caption>\n",
       "<thead>\n",
       "\t<tr><th scope=col>Residence_type</th><th scope=col>porcentaje</th><th scope=col>n</th><th scope=col>derrames</th></tr>\n",
       "\t<tr><th scope=col>&lt;chr&gt;</th><th scope=col>&lt;dbl&gt;</th><th scope=col>&lt;int&gt;</th><th scope=col>&lt;int&gt;</th></tr>\n",
       "</thead>\n",
       "<tbody>\n",
       "\t<tr><td>Rural</td><td>0.099</td><td>1064</td><td>105</td></tr>\n",
       "\t<tr><td>Urban</td><td>0.108</td><td>1146</td><td>124</td></tr>\n",
       "</tbody>\n",
       "</table>\n"
      ],
      "text/latex": [
       "A tibble: 2 × 4\n",
       "\\begin{tabular}{llll}\n",
       " Residence\\_type & porcentaje & n & derrames\\\\\n",
       " <chr> & <dbl> & <int> & <int>\\\\\n",
       "\\hline\n",
       "\t Rural & 0.099 & 1064 & 105\\\\\n",
       "\t Urban & 0.108 & 1146 & 124\\\\\n",
       "\\end{tabular}\n"
      ],
      "text/markdown": [
       "\n",
       "A tibble: 2 × 4\n",
       "\n",
       "| Residence_type &lt;chr&gt; | porcentaje &lt;dbl&gt; | n &lt;int&gt; | derrames &lt;int&gt; |\n",
       "|---|---|---|---|\n",
       "| Rural | 0.099 | 1064 | 105 |\n",
       "| Urban | 0.108 | 1146 | 124 |\n",
       "\n"
      ],
      "text/plain": [
       "  Residence_type porcentaje n    derrames\n",
       "1 Rural          0.099      1064 105     \n",
       "2 Urban          0.108      1146 124     "
      ]
     },
     "metadata": {},
     "output_type": "display_data"
    },
    {
     "data": {
      "text/html": [
       "<table class=\"dataframe\">\n",
       "<caption>A tibble: 4 × 4</caption>\n",
       "<thead>\n",
       "\t<tr><th scope=col>smoking_status</th><th scope=col>porcentaje</th><th scope=col>n</th><th scope=col>derrames</th></tr>\n",
       "\t<tr><th scope=col>&lt;chr&gt;</th><th scope=col>&lt;dbl&gt;</th><th scope=col>&lt;int&gt;</th><th scope=col>&lt;int&gt;</th></tr>\n",
       "</thead>\n",
       "<tbody>\n",
       "\t<tr><td>formerly smoked</td><td>0.114</td><td>580</td><td>66</td></tr>\n",
       "\t<tr><td>never smoked   </td><td>0.096</td><td>864</td><td>83</td></tr>\n",
       "\t<tr><td>smokes         </td><td>0.104</td><td>355</td><td>37</td></tr>\n",
       "\t<tr><td>Unknown        </td><td>0.105</td><td>411</td><td>43</td></tr>\n",
       "</tbody>\n",
       "</table>\n"
      ],
      "text/latex": [
       "A tibble: 4 × 4\n",
       "\\begin{tabular}{llll}\n",
       " smoking\\_status & porcentaje & n & derrames\\\\\n",
       " <chr> & <dbl> & <int> & <int>\\\\\n",
       "\\hline\n",
       "\t formerly smoked & 0.114 & 580 & 66\\\\\n",
       "\t never smoked    & 0.096 & 864 & 83\\\\\n",
       "\t smokes          & 0.104 & 355 & 37\\\\\n",
       "\t Unknown         & 0.105 & 411 & 43\\\\\n",
       "\\end{tabular}\n"
      ],
      "text/markdown": [
       "\n",
       "A tibble: 4 × 4\n",
       "\n",
       "| smoking_status &lt;chr&gt; | porcentaje &lt;dbl&gt; | n &lt;int&gt; | derrames &lt;int&gt; |\n",
       "|---|---|---|---|\n",
       "| formerly smoked | 0.114 | 580 | 66 |\n",
       "| never smoked    | 0.096 | 864 | 83 |\n",
       "| smokes          | 0.104 | 355 | 37 |\n",
       "| Unknown         | 0.105 | 411 | 43 |\n",
       "\n"
      ],
      "text/plain": [
       "  smoking_status  porcentaje n   derrames\n",
       "1 formerly smoked 0.114      580 66      \n",
       "2 never smoked    0.096      864 83      \n",
       "3 smokes          0.104      355 37      \n",
       "4 Unknown         0.105      411 43      "
      ]
     },
     "metadata": {},
     "output_type": "display_data"
    },
    {
     "data": {
      "text/html": [
       "<table class=\"dataframe\">\n",
       "<caption>A tibble: 2 × 4</caption>\n",
       "<thead>\n",
       "\t<tr><th scope=col>stroke_t</th><th scope=col>porcentaje</th><th scope=col>n</th><th scope=col>derrames</th></tr>\n",
       "\t<tr><th scope=col>&lt;fct&gt;</th><th scope=col>&lt;dbl&gt;</th><th scope=col>&lt;int&gt;</th><th scope=col>&lt;int&gt;</th></tr>\n",
       "</thead>\n",
       "<tbody>\n",
       "\t<tr><td>no stroke</td><td>0</td><td>1981</td><td>  0</td></tr>\n",
       "\t<tr><td>stroke   </td><td>1</td><td> 229</td><td>229</td></tr>\n",
       "</tbody>\n",
       "</table>\n"
      ],
      "text/latex": [
       "A tibble: 2 × 4\n",
       "\\begin{tabular}{llll}\n",
       " stroke\\_t & porcentaje & n & derrames\\\\\n",
       " <fct> & <dbl> & <int> & <int>\\\\\n",
       "\\hline\n",
       "\t no stroke & 0 & 1981 &   0\\\\\n",
       "\t stroke    & 1 &  229 & 229\\\\\n",
       "\\end{tabular}\n"
      ],
      "text/markdown": [
       "\n",
       "A tibble: 2 × 4\n",
       "\n",
       "| stroke_t &lt;fct&gt; | porcentaje &lt;dbl&gt; | n &lt;int&gt; | derrames &lt;int&gt; |\n",
       "|---|---|---|---|\n",
       "| no stroke | 0 | 1981 |   0 |\n",
       "| stroke    | 1 |  229 | 229 |\n",
       "\n"
      ],
      "text/plain": [
       "  stroke_t  porcentaje n    derrames\n",
       "1 no stroke 0          1981   0     \n",
       "2 stroke    1           229 229     "
      ]
     },
     "metadata": {},
     "output_type": "display_data"
    }
   ],
   "source": [
    "for (col_name in colnames(data[sapply(data, function(x) !(is.numeric(x)))])){\n",
    "    output <- data %>%\n",
    "        group_by(!!sym(col_name)) %>%\n",
    "        summarise(\n",
    "            porcentaje = round(mean(stroke), 3),\n",
    "            n = n(),\n",
    "            derrames = sum(stroke == 1)\n",
    "        )\n",
    "    View(output)\n",
    "}"
   ]
  },
  {
   "cell_type": "code",
   "execution_count": 12,
   "id": "24cb487d",
   "metadata": {},
   "outputs": [],
   "source": [
    "data=na.omit(data)"
   ]
  },
  {
   "cell_type": "code",
   "execution_count": 13,
   "id": "c2c8a6d3",
   "metadata": {},
   "outputs": [
    {
     "name": "stderr",
     "output_type": "stream",
     "text": [
      "`summarise()` has grouped output by 'work_type'. You can override using the `.groups` argument.\n",
      "\n"
     ]
    },
    {
     "data": {
      "text/html": [
       "<table class=\"dataframe\">\n",
       "<caption>A grouped_df: 6 × 5</caption>\n",
       "<thead>\n",
       "\t<tr><th scope=col>work_type</th><th scope=col>Residence_type</th><th scope=col>n</th><th scope=col>porcentaje</th><th scope=col>derrames</th></tr>\n",
       "\t<tr><th scope=col>&lt;chr&gt;</th><th scope=col>&lt;chr&gt;</th><th scope=col>&lt;int&gt;</th><th scope=col>&lt;dbl&gt;</th><th scope=col>&lt;int&gt;</th></tr>\n",
       "</thead>\n",
       "<tbody>\n",
       "\t<tr><td>Govt_job     </td><td>Rural</td><td>162</td><td>0.080</td><td>13</td></tr>\n",
       "\t<tr><td>Govt_job     </td><td>Urban</td><td>182</td><td>0.077</td><td>14</td></tr>\n",
       "\t<tr><td>Private      </td><td>Rural</td><td>576</td><td>0.094</td><td>54</td></tr>\n",
       "\t<tr><td>Private      </td><td>Urban</td><td>600</td><td>0.100</td><td>60</td></tr>\n",
       "\t<tr><td>Self-employed</td><td>Rural</td><td>276</td><td>0.091</td><td>25</td></tr>\n",
       "\t<tr><td>Self-employed</td><td>Urban</td><td>294</td><td>0.085</td><td>25</td></tr>\n",
       "</tbody>\n",
       "</table>\n"
      ],
      "text/latex": [
       "A grouped\\_df: 6 × 5\n",
       "\\begin{tabular}{lllll}\n",
       " work\\_type & Residence\\_type & n & porcentaje & derrames\\\\\n",
       " <chr> & <chr> & <int> & <dbl> & <int>\\\\\n",
       "\\hline\n",
       "\t Govt\\_job      & Rural & 162 & 0.080 & 13\\\\\n",
       "\t Govt\\_job      & Urban & 182 & 0.077 & 14\\\\\n",
       "\t Private       & Rural & 576 & 0.094 & 54\\\\\n",
       "\t Private       & Urban & 600 & 0.100 & 60\\\\\n",
       "\t Self-employed & Rural & 276 & 0.091 & 25\\\\\n",
       "\t Self-employed & Urban & 294 & 0.085 & 25\\\\\n",
       "\\end{tabular}\n"
      ],
      "text/markdown": [
       "\n",
       "A grouped_df: 6 × 5\n",
       "\n",
       "| work_type &lt;chr&gt; | Residence_type &lt;chr&gt; | n &lt;int&gt; | porcentaje &lt;dbl&gt; | derrames &lt;int&gt; |\n",
       "|---|---|---|---|---|\n",
       "| Govt_job      | Rural | 162 | 0.080 | 13 |\n",
       "| Govt_job      | Urban | 182 | 0.077 | 14 |\n",
       "| Private       | Rural | 576 | 0.094 | 54 |\n",
       "| Private       | Urban | 600 | 0.100 | 60 |\n",
       "| Self-employed | Rural | 276 | 0.091 | 25 |\n",
       "| Self-employed | Urban | 294 | 0.085 | 25 |\n",
       "\n"
      ],
      "text/plain": [
       "  work_type     Residence_type n   porcentaje derrames\n",
       "1 Govt_job      Rural          162 0.080      13      \n",
       "2 Govt_job      Urban          182 0.077      14      \n",
       "3 Private       Rural          576 0.094      54      \n",
       "4 Private       Urban          600 0.100      60      \n",
       "5 Self-employed Rural          276 0.091      25      \n",
       "6 Self-employed Urban          294 0.085      25      "
      ]
     },
     "metadata": {},
     "output_type": "display_data"
    }
   ],
   "source": [
    "data %>%\n",
    "    group_by(work_type, Residence_type) %>%\n",
    "    summarise(\n",
    "        n = n(), \n",
    "        porcentaje = round(mean(stroke), 3),\n",
    "        derrames = sum(stroke)\n",
    "    )"
   ]
  },
  {
   "cell_type": "markdown",
   "id": "499ff90d",
   "metadata": {},
   "source": [
    "*A continuación se presentan distintos gráficos. Podemos observar en el siguiente gráfico el histograma de la frecuencia de edad, se nota claramente un pick o más bien una mayor frecuencia por los 45 años aproximadamente.*"
   ]
  },
  {
   "cell_type": "code",
   "execution_count": 14,
   "id": "1b23ed10",
   "metadata": {},
   "outputs": [
    {
     "data": {
      "image/png": "[encoded data removed]",
      "text/plain": [
       "plot without title"
      ]
     },
     "metadata": {
      "image/png": {
       "height": 420,
       "width": 420
      }
     },
     "output_type": "display_data"
    }
   ],
   "source": [
    "ggplot(data, aes(x = age)) + \n",
    "    geom_histogram(fill = '#F8766D', col = 'black',bins = max(data$age)) +   \n",
    "labs(title = \"Histograma de la edad\",\n",
    "       x=\"Edad\",\n",
    "       y=\"Frecuencia\")"
   ]
  },
  {
   "cell_type": "markdown",
   "id": "a25263d6",
   "metadata": {},
   "source": [
    "*A continuación se aprecia el histograma del índice de masa corpolar, donde se observa una pequeña cola a la derecha, es decir que pocas personas tienen un IMC alto.*"
   ]
  },
  {
   "cell_type": "code",
   "execution_count": 15,
   "id": "f0a937ef",
   "metadata": {},
   "outputs": [
    {
     "data": {
      "image/png": "[encoded data removed]",
      "text/plain": [
       "plot without title"
      ]
     },
     "metadata": {
      "image/png": {
       "height": 420,
       "width": 420
      }
     },
     "output_type": "display_data"
    }
   ],
   "source": [
    "ggplot(data, aes(x = bmi)) + geom_histogram(fill = '#7CAE00', col = 'black',bins =  max(na.omit(data$bmi))) +\n",
    "labs(title = \"Histograma de BMI (Body Mass Index)\",\n",
    "       x=\"BMI\",\n",
    "       y=\"Individuos\")"
   ]
  },
  {
   "cell_type": "markdown",
   "id": "7d409c10",
   "metadata": {},
   "source": [
    "*Se observa el histograma de la frecuencia del promedio de glucosa.*"
   ]
  },
  {
   "cell_type": "code",
   "execution_count": 16,
   "id": "9d705257",
   "metadata": {},
   "outputs": [
    {
     "data": {
      "image/png": "[encoded data removed]",
      "text/plain": [
       "plot without title"
      ]
     },
     "metadata": {
      "image/png": {
       "height": 420,
       "width": 420
      }
     },
     "output_type": "display_data"
    }
   ],
   "source": [
    "ggplot(data, aes(x = avg_glucose_level)) + geom_histogram(fill = '#C77CFF', col = 'black',bins = max(data$avg_glucose_level) ) +   \n",
    "labs(title = \"Histograma del promedio de glucosa\",\n",
    "       x=\"Glucosa\",\n",
    "       y=\"Individuos\")"
   ]
  },
  {
   "cell_type": "markdown",
   "id": "eaef29f9",
   "metadata": {},
   "source": [
    "*A continuación podemos observar la densidad empirica de derrames según la edad, se aprecia una clara tendencia que a mayor edad mayor cantidad de derrames.*"
   ]
  },
  {
   "cell_type": "code",
   "execution_count": 17,
   "id": "0a44bda6",
   "metadata": {},
   "outputs": [
    {
     "data": {
      "image/png": "[encoded data removed]",
      "text/plain": [
       "plot without title"
      ]
     },
     "metadata": {
      "image/png": {
       "height": 420,
       "width": 420
      }
     },
     "output_type": "display_data"
    }
   ],
   "source": [
    "ggplot(data, aes(x = age, fill = stroke_t))+ geom_density(alpha = 0.8) + \n",
    "  labs(title = \"Densidad empirica del derrame por edad\",\n",
    "       x=\"Edad\",\n",
    "       y=\"Densidad\") + scale_fill_discrete(name = \"Derrame\", labels = c(\"No\", \"Si\"))"
   ]
  },
  {
   "cell_type": "markdown",
   "id": "d60e66f3",
   "metadata": {},
   "source": [
    "*En el siguiente gráfico de barras se encuentra la cantidad de individuos por sexo, encontramos $2994$ mujeres y $2115$ hombres.*"
   ]
  },
  {
   "cell_type": "code",
   "execution_count": 18,
   "id": "f9830226",
   "metadata": {},
   "outputs": [
    {
     "data": {
      "image/png": "[encoded data removed]",
      "text/plain": [
       "plot without title"
      ]
     },
     "metadata": {
      "image/png": {
       "height": 420,
       "width": 420
      }
     },
     "output_type": "display_data"
    }
   ],
   "source": [
    "ggplot(data = data, aes(x=gender,fill=gender))+geom_bar()+\n",
    "  labs(title = \"Número de personas según sexo\",\n",
    "       x=\"\",\n",
    "       y=\"Cantidad de personas\") + scale_fill_discrete(name = \"Sexo\", labels = c(\"Femenino\", \"Masculino\")) + \n",
    "       geom_text(stat='count', aes(label=..count..), vjust=-1)"
   ]
  },
  {
   "cell_type": "markdown",
   "id": "07c8001e",
   "metadata": {},
   "source": [
    "*La cantidad de personas que han estado casadas alguna vez se encuentra en el siguiente gráfico de barras y se aprecia que es de $3353$ y los que no han estado casados nunca es de $1756$*"
   ]
  },
  {
   "cell_type": "code",
   "execution_count": 19,
   "id": "e0bb9974",
   "metadata": {},
   "outputs": [
    {
     "data": {
      "image/png": "[encoded data removed]",
      "text/plain": [
       "plot without title"
      ]
     },
     "metadata": {
      "image/png": {
       "height": 420,
       "width": 420
      }
     },
     "output_type": "display_data"
    }
   ],
   "source": [
    "ggplot(data = data, aes(x=ever_married,fill=ever_married))+geom_bar() + \n",
    "  labs(title = \"¿Ha estado casado alguna vez?\",\n",
    "       x=\"\",\n",
    "       y=\"Cantidad de personas\") + scale_fill_discrete(name = \"Casado\", labels = c(\"No\", \"Si\")) + \n",
    "       geom_text(stat='count', aes(label=..count..), vjust=-1)"
   ]
  },
  {
   "cell_type": "markdown",
   "id": "ea5fe3a5",
   "metadata": {},
   "source": [
    "*La cantidad de individuos del estudio que se encuentran en distintos trabajos lo podemos observar en el siguiente gráfico de barras. Podemos apreciar que existen $2924$ individuos que trabajan en alguna entidad privada, luego encontramos a $819$ personas independientes, los que poseen un trabajo de gobierno son $657$, se encuentra una cantidad de $687$ niños, y por último las personas del estudio que nunca han trabajado son $22$.*"
   ]
  },
  {
   "cell_type": "code",
   "execution_count": 20,
   "id": "96f308d6",
   "metadata": {},
   "outputs": [
    {
     "data": {
      "image/png": "[encoded data removed]",
      "text/plain": [
       "plot without title"
      ]
     },
     "metadata": {
      "image/png": {
       "height": 420,
       "width": 420
      }
     },
     "output_type": "display_data"
    }
   ],
   "source": [
    "ggplot(data = data, aes(x=work_type,fill=work_type))+geom_bar()+theme(axis.text.x =element_text(angle = 45) ) +\n",
    "scale_fill_discrete(name = \"Trabajo\", labels = c(\"Trabajo de Gobierno\",\"Privado\",\"Independiente\")) +  labs(title = \"Tipos de trabajo\",\n",
    "       x=\"\",\n",
    "       y=\"Cantidad de personas\") + \n",
    "       geom_text(stat='count', aes(label=..count..), vjust=-1)"
   ]
  },
  {
   "cell_type": "code",
   "execution_count": 21,
   "id": "035d09c6",
   "metadata": {},
   "outputs": [],
   "source": [
    "# Datos no nivelados \n",
    "\n",
    "data$gender <- as.factor(data$gender)\n",
    "data$work_type <- as.factor(data$work_type)\n",
    "\n",
    "data$hypertension <- as.factor(data$hypertension)\n",
    "data$heart_disease <- as.factor(data$heart_disease)\n",
    "data$ever_married <- as.factor(data$ever_married)\n",
    "data$bmi <- as.numeric(data$bmi)\n",
    "data$stroke<-factor(data$stroke)"
   ]
  },
  {
   "cell_type": "code",
   "execution_count": 22,
   "id": "f7850eaf",
   "metadata": {},
   "outputs": [
    {
     "data": {
      "text/html": [
       "<table class=\"dataframe\">\n",
       "<caption>A data.frame: 6 × 12</caption>\n",
       "<thead>\n",
       "\t<tr><th></th><th scope=col>gender</th><th scope=col>age</th><th scope=col>hypertension</th><th scope=col>heart_disease</th><th scope=col>ever_married</th><th scope=col>work_type</th><th scope=col>Residence_type</th><th scope=col>avg_glucose_level</th><th scope=col>bmi</th><th scope=col>smoking_status</th><th scope=col>stroke</th><th scope=col>stroke_t</th></tr>\n",
       "\t<tr><th></th><th scope=col>&lt;fct&gt;</th><th scope=col>&lt;dbl&gt;</th><th scope=col>&lt;fct&gt;</th><th scope=col>&lt;fct&gt;</th><th scope=col>&lt;fct&gt;</th><th scope=col>&lt;fct&gt;</th><th scope=col>&lt;chr&gt;</th><th scope=col>&lt;dbl&gt;</th><th scope=col>&lt;dbl&gt;</th><th scope=col>&lt;chr&gt;</th><th scope=col>&lt;fct&gt;</th><th scope=col>&lt;fct&gt;</th></tr>\n",
       "</thead>\n",
       "<tbody>\n",
       "\t<tr><th scope=row>1</th><td>Male  </td><td>67</td><td>no hypertension</td><td>heart disease   </td><td>Yes</td><td>Private      </td><td>Urban</td><td>228.69</td><td>36.6</td><td>formerly smoked</td><td>1</td><td>stroke</td></tr>\n",
       "\t<tr><th scope=row>3</th><td>Male  </td><td>80</td><td>no hypertension</td><td>heart disease   </td><td>Yes</td><td>Private      </td><td>Rural</td><td>105.92</td><td>32.5</td><td>never smoked   </td><td>1</td><td>stroke</td></tr>\n",
       "\t<tr><th scope=row>4</th><td>Female</td><td>79</td><td>hypertension   </td><td>no heart disease</td><td>Yes</td><td>Self-employed</td><td>Rural</td><td>174.12</td><td>24.0</td><td>never smoked   </td><td>1</td><td>stroke</td></tr>\n",
       "\t<tr><th scope=row>5</th><td>Male  </td><td>81</td><td>no hypertension</td><td>no heart disease</td><td>Yes</td><td>Private      </td><td>Urban</td><td>186.21</td><td>29.0</td><td>formerly smoked</td><td>1</td><td>stroke</td></tr>\n",
       "\t<tr><th scope=row>6</th><td>Male  </td><td>74</td><td>hypertension   </td><td>heart disease   </td><td>Yes</td><td>Private      </td><td>Rural</td><td> 70.09</td><td>27.4</td><td>never smoked   </td><td>1</td><td>stroke</td></tr>\n",
       "\t<tr><th scope=row>7</th><td>Female</td><td>69</td><td>no hypertension</td><td>no heart disease</td><td>No </td><td>Private      </td><td>Urban</td><td> 94.39</td><td>22.8</td><td>never smoked   </td><td>1</td><td>stroke</td></tr>\n",
       "</tbody>\n",
       "</table>\n"
      ],
      "text/latex": [
       "A data.frame: 6 × 12\n",
       "\\begin{tabular}{r|llllllllllll}\n",
       "  & gender & age & hypertension & heart\\_disease & ever\\_married & work\\_type & Residence\\_type & avg\\_glucose\\_level & bmi & smoking\\_status & stroke & stroke\\_t\\\\\n",
       "  & <fct> & <dbl> & <fct> & <fct> & <fct> & <fct> & <chr> & <dbl> & <dbl> & <chr> & <fct> & <fct>\\\\\n",
       "\\hline\n",
       "\t1 & Male   & 67 & no hypertension & heart disease    & Yes & Private       & Urban & 228.69 & 36.6 & formerly smoked & 1 & stroke\\\\\n",
       "\t3 & Male   & 80 & no hypertension & heart disease    & Yes & Private       & Rural & 105.92 & 32.5 & never smoked    & 1 & stroke\\\\\n",
       "\t4 & Female & 79 & hypertension    & no heart disease & Yes & Self-employed & Rural & 174.12 & 24.0 & never smoked    & 1 & stroke\\\\\n",
       "\t5 & Male   & 81 & no hypertension & no heart disease & Yes & Private       & Urban & 186.21 & 29.0 & formerly smoked & 1 & stroke\\\\\n",
       "\t6 & Male   & 74 & hypertension    & heart disease    & Yes & Private       & Rural &  70.09 & 27.4 & never smoked    & 1 & stroke\\\\\n",
       "\t7 & Female & 69 & no hypertension & no heart disease & No  & Private       & Urban &  94.39 & 22.8 & never smoked    & 1 & stroke\\\\\n",
       "\\end{tabular}\n"
      ],
      "text/markdown": [
       "\n",
       "A data.frame: 6 × 12\n",
       "\n",
       "| <!--/--> | gender &lt;fct&gt; | age &lt;dbl&gt; | hypertension &lt;fct&gt; | heart_disease &lt;fct&gt; | ever_married &lt;fct&gt; | work_type &lt;fct&gt; | Residence_type &lt;chr&gt; | avg_glucose_level &lt;dbl&gt; | bmi &lt;dbl&gt; | smoking_status &lt;chr&gt; | stroke &lt;fct&gt; | stroke_t &lt;fct&gt; |\n",
       "|---|---|---|---|---|---|---|---|---|---|---|---|---|\n",
       "| 1 | Male   | 67 | no hypertension | heart disease    | Yes | Private       | Urban | 228.69 | 36.6 | formerly smoked | 1 | stroke |\n",
       "| 3 | Male   | 80 | no hypertension | heart disease    | Yes | Private       | Rural | 105.92 | 32.5 | never smoked    | 1 | stroke |\n",
       "| 4 | Female | 79 | hypertension    | no heart disease | Yes | Self-employed | Rural | 174.12 | 24.0 | never smoked    | 1 | stroke |\n",
       "| 5 | Male   | 81 | no hypertension | no heart disease | Yes | Private       | Urban | 186.21 | 29.0 | formerly smoked | 1 | stroke |\n",
       "| 6 | Male   | 74 | hypertension    | heart disease    | Yes | Private       | Rural |  70.09 | 27.4 | never smoked    | 1 | stroke |\n",
       "| 7 | Female | 69 | no hypertension | no heart disease | No  | Private       | Urban |  94.39 | 22.8 | never smoked    | 1 | stroke |\n",
       "\n"
      ],
      "text/plain": [
       "  gender age hypertension    heart_disease    ever_married work_type    \n",
       "1 Male   67  no hypertension heart disease    Yes          Private      \n",
       "3 Male   80  no hypertension heart disease    Yes          Private      \n",
       "4 Female 79  hypertension    no heart disease Yes          Self-employed\n",
       "5 Male   81  no hypertension no heart disease Yes          Private      \n",
       "6 Male   74  hypertension    heart disease    Yes          Private      \n",
       "7 Female 69  no hypertension no heart disease No           Private      \n",
       "  Residence_type avg_glucose_level bmi  smoking_status  stroke stroke_t\n",
       "1 Urban          228.69            36.6 formerly smoked 1      stroke  \n",
       "3 Rural          105.92            32.5 never smoked    1      stroke  \n",
       "4 Rural          174.12            24.0 never smoked    1      stroke  \n",
       "5 Urban          186.21            29.0 formerly smoked 1      stroke  \n",
       "6 Rural           70.09            27.4 never smoked    1      stroke  \n",
       "7 Urban           94.39            22.8 never smoked    1      stroke  "
      ]
     },
     "metadata": {},
     "output_type": "display_data"
    }
   ],
   "source": [
    "head(data)"
   ]
  },
  {
   "cell_type": "code",
   "execution_count": 23,
   "id": "4d4f6602",
   "metadata": {},
   "outputs": [],
   "source": [
    "prediccion_modelo=function(stroke_balanceado){\n",
    "predicciones <- ifelse(test = stroke_balanceado$fitted.values > 0.5, yes = 1, no = 0)\n",
    "matriz_confusion_balanceado <- table(stroke_balanceado$model$stroke, predicciones,\n",
    "                          dnn = c(\"observaciones\", \"predicciones\"))\n",
    "nivel_b = (matriz_confusion_balanceado[1,1]+matriz_confusion_balanceado[2,2])/sum(matriz_confusion_balanceado)\n",
    "\n",
    "matriz_confusion_balanceado\n",
    "devianza=summary(stroke_balanceado)[[4]]\n",
    "aic=summary(stroke_balanceado)[[5]]\n",
    "d=((summary(stroke_balanceado)[[8]]-summary(stroke_balanceado)[[4]])/summary(stroke_balanceado)[[8]])*100\n",
    "\n",
    "tabla=cbind(matriz_confusion_balanceado,nivel_b,devianza,aic,d)\n",
    "colnames(tabla)=c('0','1','Exactitud','Deviance','AIC','Var Explicada')\n",
    "return(tabla)\n",
    "}"
   ]
  },
  {
   "cell_type": "code",
   "execution_count": 50,
   "id": "259de77c",
   "metadata": {},
   "outputs": [
    {
     "data": {
      "text/plain": [
       "\n",
       "Call:\n",
       "glm(formula = stroke ~ gender + age + hypertension + heart_disease + \n",
       "    ever_married + work_type + Residence_type + avg_glucose_level + \n",
       "    bmi + smoking_status, family = binomial(link = \"logit\"), \n",
       "    data = data)\n",
       "\n",
       "Deviance Residuals: \n",
       "    Min       1Q   Median       3Q      Max  \n",
       "-1.2197  -0.4719  -0.3424  -0.2568   2.7542  \n",
       "\n",
       "Coefficients:\n",
       "                               Estimate Std. Error z value Pr(>|z|)    \n",
       "(Intercept)                   -6.007260   0.943509  -6.367 1.93e-10 ***\n",
       "genderMale                    -0.002612   0.162239  -0.016 0.987156    \n",
       "age                            0.062427   0.009026   6.916 4.64e-12 ***\n",
       "hypertensionno hypertension   -0.543365   0.177677  -3.058 0.002227 ** \n",
       "heart_diseaseno heart disease -0.375921   0.207814  -1.809 0.070463 .  \n",
       "ever_marriedYes               -0.227946   0.269493  -0.846 0.397645    \n",
       "work_typePrivate               0.107675   0.231139   0.466 0.641328    \n",
       "work_typeSelf-employed        -0.320501   0.262497  -1.221 0.222097    \n",
       "Residence_typeUrban           -0.014128   0.157664  -0.090 0.928601    \n",
       "avg_glucose_level              0.005127   0.001327   3.864 0.000111 ***\n",
       "bmi                           -0.004578   0.013226  -0.346 0.729237    \n",
       "smoking_statusnever smoked    -0.049160   0.195591  -0.251 0.801552    \n",
       "smoking_statussmokes           0.287441   0.242169   1.187 0.235250    \n",
       "smoking_statusUnknown         -0.224582   0.257549  -0.872 0.383211    \n",
       "---\n",
       "Signif. codes:  0 '***' 0.001 '**' 0.01 '*' 0.05 '.' 0.1 ' ' 1\n",
       "\n",
       "(Dispersion parameter for binomial family taken to be 1)\n",
       "\n",
       "    Null deviance: 1278.0  on 2089  degrees of freedom\n",
       "Residual deviance: 1165.9  on 2076  degrees of freedom\n",
       "AIC: 1193.9\n",
       "\n",
       "Number of Fisher Scoring iterations: 5\n"
      ]
     },
     "metadata": {},
     "output_type": "display_data"
    },
    {
     "data": {
      "text/html": [
       "<style>\n",
       ".dl-inline {width: auto; margin:0; padding: 0}\n",
       ".dl-inline>dt, .dl-inline>dd {float: none; width: auto; display: inline-block}\n",
       ".dl-inline>dt::after {content: \":\\0020\"; padding-right: .5ex}\n",
       ".dl-inline>dt:not(:first-of-type) {padding-left: .5ex}\n",
       "</style><dl class=dl-inline><dt>(Intercept)</dt><dd>0.00246082187986878</dd><dt>genderMale</dt><dd>0.997391641114574</dd><dt>age</dt><dd>1.06441667520987</dd><dt>hypertensionno hypertension</dt><dd>0.58079069021079</dd><dt>heart_diseaseno heart disease</dt><dd>0.686656736876318</dd><dt>ever_marriedYes</dt><dd>0.796166970313353</dd><dt>work_typePrivate</dt><dd>1.11368532721684</dd><dt>work_typeSelf-employed</dt><dd>0.725785334529231</dd><dt>Residence_typeUrban</dt><dd>0.985971812600739</dd><dt>avg_glucose_level</dt><dd>1.00513984605275</dd><dt>bmi</dt><dd>0.995432569416577</dd><dt>smoking_statusnever smoked</dt><dd>0.952029171644167</dd><dt>smoking_statussmokes</dt><dd>1.33301183698069</dd><dt>smoking_statusUnknown</dt><dd>0.798850434446392</dd></dl>\n"
      ],
      "text/latex": [
       "\\begin{description*}\n",
       "\\item[(Intercept)] 0.00246082187986878\n",
       "\\item[genderMale] 0.997391641114574\n",
       "\\item[age] 1.06441667520987\n",
       "\\item[hypertensionno hypertension] 0.58079069021079\n",
       "\\item[heart\\textbackslash{}\\_diseaseno heart disease] 0.686656736876318\n",
       "\\item[ever\\textbackslash{}\\_marriedYes] 0.796166970313353\n",
       "\\item[work\\textbackslash{}\\_typePrivate] 1.11368532721684\n",
       "\\item[work\\textbackslash{}\\_typeSelf-employed] 0.725785334529231\n",
       "\\item[Residence\\textbackslash{}\\_typeUrban] 0.985971812600739\n",
       "\\item[avg\\textbackslash{}\\_glucose\\textbackslash{}\\_level] 1.00513984605275\n",
       "\\item[bmi] 0.995432569416577\n",
       "\\item[smoking\\textbackslash{}\\_statusnever smoked] 0.952029171644167\n",
       "\\item[smoking\\textbackslash{}\\_statussmokes] 1.33301183698069\n",
       "\\item[smoking\\textbackslash{}\\_statusUnknown] 0.798850434446392\n",
       "\\end{description*}\n"
      ],
      "text/markdown": [
       "(Intercept)\n",
       ":   0.00246082187986878genderMale\n",
       ":   0.997391641114574age\n",
       ":   1.06441667520987hypertensionno hypertension\n",
       ":   0.58079069021079heart_diseaseno heart disease\n",
       ":   0.686656736876318ever_marriedYes\n",
       ":   0.796166970313353work_typePrivate\n",
       ":   1.11368532721684work_typeSelf-employed\n",
       ":   0.725785334529231Residence_typeUrban\n",
       ":   0.985971812600739avg_glucose_level\n",
       ":   1.00513984605275bmi\n",
       ":   0.995432569416577smoking_statusnever smoked\n",
       ":   0.952029171644167smoking_statussmokes\n",
       ":   1.33301183698069smoking_statusUnknown\n",
       ":   0.798850434446392\n",
       "\n"
      ],
      "text/plain": [
       "                  (Intercept)                    genderMale \n",
       "                  0.002460822                   0.997391641 \n",
       "                          age   hypertensionno hypertension \n",
       "                  1.064416675                   0.580790690 \n",
       "heart_diseaseno heart disease               ever_marriedYes \n",
       "                  0.686656737                   0.796166970 \n",
       "             work_typePrivate        work_typeSelf-employed \n",
       "                  1.113685327                   0.725785335 \n",
       "          Residence_typeUrban             avg_glucose_level \n",
       "                  0.985971813                   1.005139846 \n",
       "                          bmi    smoking_statusnever smoked \n",
       "                  0.995432569                   0.952029172 \n",
       "         smoking_statussmokes         smoking_statusUnknown \n",
       "                  1.333011837                   0.798850434 "
      ]
     },
     "metadata": {},
     "output_type": "display_data"
    }
   ],
   "source": [
    "stroke_original_1 <- glm(stroke~ gender+age+hypertension+heart_disease+ever_married+work_type+\n",
    "Residence_type+avg_glucose_level+bmi+smoking_status,data=data, family = binomial(link = \"logit\"))\n",
    "summary(stroke_original_1)\n",
    "\n",
    "exp(coef(stroke_original_1))  # Razones de ventajas (\"odds ratios\")"
   ]
  },
  {
   "cell_type": "code",
   "execution_count": 58,
   "id": "927e20c9",
   "metadata": {},
   "outputs": [
    {
     "data": {
      "text/plain": [
       "\n",
       "Call:\n",
       "zeroinfl(formula = ifelse(as.numeric(data$stroke) == 1, 0, 1) ~ gender + \n",
       "    age + hypertension + heart_disease + ever_married + avg_glucose_level + \n",
       "    bmi, data = data, dist = \"negbin\")\n",
       "\n",
       "Pearson residuals:\n",
       "    Min      1Q  Median      3Q     Max \n",
       "-0.8500 -0.3231 -0.2399 -0.1882  8.5874 \n",
       "\n",
       "Count model coefficients (negbin with log link):\n",
       "                               Estimate Std. Error z value Pr(>|z|)    \n",
       "(Intercept)                   -4.391903   0.948487  -4.630 3.65e-06 ***\n",
       "genderMale                     0.019953   0.156805   0.127   0.8987    \n",
       "age                            0.041507   0.009255   4.485 7.30e-06 ***\n",
       "hypertensionno hypertension   -0.317367   0.171462  -1.851   0.0642 .  \n",
       "heart_diseaseno heart disease -0.255052   0.197694  -1.290   0.1970    \n",
       "ever_marriedYes               -0.366738   0.269379  -1.361   0.1734    \n",
       "avg_glucose_level              0.006276   0.001444   4.345 1.39e-05 ***\n",
       "bmi                           -0.023334   0.014537  -1.605   0.1085    \n",
       "Log(theta)                    16.910044   9.891714   1.710   0.0874 .  \n",
       "\n",
       "Zero-inflation model coefficients (binomial with logit link):\n",
       "                              Estimate Std. Error z value Pr(>|z|)  \n",
       "(Intercept)                   12.91713   11.29883   1.143   0.2529  \n",
       "genderMale                     1.12051    1.50389   0.745   0.4562  \n",
       "age                           -0.20708    0.09372  -2.210   0.0271 *\n",
       "hypertensionno hypertension    9.37093    6.43645   1.456   0.1454  \n",
       "heart_diseaseno heart disease  2.40476    2.49277   0.965   0.3347  \n",
       "ever_marriedYes               -3.92482    2.45743  -1.597   0.1102  \n",
       "avg_glucose_level              0.04791    0.02075   2.309   0.0210 *\n",
       "bmi                           -0.63223    0.33167  -1.906   0.0566 .\n",
       "---\n",
       "Signif. codes:  0 '***' 0.001 '**' 0.01 '*' 0.05 '.' 0.1 ' ' 1 \n",
       "\n",
       "Theta = 22076934.5432 \n",
       "Number of iterations in BFGS optimization: 102 \n",
       "Log-likelihood: -595.9 on 17 Df"
      ]
     },
     "metadata": {},
     "output_type": "display_data"
    },
    {
     "data": {
      "text/html": [
       "<style>\n",
       ".dl-inline {width: auto; margin:0; padding: 0}\n",
       ".dl-inline>dt, .dl-inline>dd {float: none; width: auto; display: inline-block}\n",
       ".dl-inline>dt::after {content: \":\\0020\"; padding-right: .5ex}\n",
       ".dl-inline>dt:not(:first-of-type) {padding-left: .5ex}\n",
       "</style><dl class=dl-inline><dt>count_(Intercept)</dt><dd>0.0123771587619789</dd><dt>count_genderMale</dt><dd>1.02015304850975</dd><dt>count_age</dt><dd>1.0423806179513</dd><dt>count_hypertensionno hypertension</dt><dd>0.728063179976586</dd><dt>count_heart_diseaseno heart disease</dt><dd>0.774876305221703</dd><dt>count_ever_marriedYes</dt><dd>0.692991445901884</dd><dt>count_avg_glucose_level</dt><dd>1.00629595637295</dd><dt>count_bmi</dt><dd>0.976936250073314</dd><dt>zero_(Intercept)</dt><dd>407226.936279088</dd><dt>zero_genderMale</dt><dd>3.06640754497311</dd><dt>zero_age</dt><dd>0.812957361614227</dd><dt>zero_hypertensionno hypertension</dt><dd>11742.0540365369</dd><dt>zero_heart_diseaseno heart disease</dt><dd>11.0757996879412</dd><dt>zero_ever_marriedYes</dt><dd>0.0197456931032652</dd><dt>zero_avg_glucose_level</dt><dd>1.04908140718287</dd><dt>zero_bmi</dt><dd>0.531404420918438</dd></dl>\n"
      ],
      "text/latex": [
       "\\begin{description*}\n",
       "\\item[count\\textbackslash{}\\_(Intercept)] 0.0123771587619789\n",
       "\\item[count\\textbackslash{}\\_genderMale] 1.02015304850975\n",
       "\\item[count\\textbackslash{}\\_age] 1.0423806179513\n",
       "\\item[count\\textbackslash{}\\_hypertensionno hypertension] 0.728063179976586\n",
       "\\item[count\\textbackslash{}\\_heart\\textbackslash{}\\_diseaseno heart disease] 0.774876305221703\n",
       "\\item[count\\textbackslash{}\\_ever\\textbackslash{}\\_marriedYes] 0.692991445901884\n",
       "\\item[count\\textbackslash{}\\_avg\\textbackslash{}\\_glucose\\textbackslash{}\\_level] 1.00629595637295\n",
       "\\item[count\\textbackslash{}\\_bmi] 0.976936250073314\n",
       "\\item[zero\\textbackslash{}\\_(Intercept)] 407226.936279088\n",
       "\\item[zero\\textbackslash{}\\_genderMale] 3.06640754497311\n",
       "\\item[zero\\textbackslash{}\\_age] 0.812957361614227\n",
       "\\item[zero\\textbackslash{}\\_hypertensionno hypertension] 11742.0540365369\n",
       "\\item[zero\\textbackslash{}\\_heart\\textbackslash{}\\_diseaseno heart disease] 11.0757996879412\n",
       "\\item[zero\\textbackslash{}\\_ever\\textbackslash{}\\_marriedYes] 0.0197456931032652\n",
       "\\item[zero\\textbackslash{}\\_avg\\textbackslash{}\\_glucose\\textbackslash{}\\_level] 1.04908140718287\n",
       "\\item[zero\\textbackslash{}\\_bmi] 0.531404420918438\n",
       "\\end{description*}\n"
      ],
      "text/markdown": [
       "count_(Intercept)\n",
       ":   0.0123771587619789count_genderMale\n",
       ":   1.02015304850975count_age\n",
       ":   1.0423806179513count_hypertensionno hypertension\n",
       ":   0.728063179976586count_heart_diseaseno heart disease\n",
       ":   0.774876305221703count_ever_marriedYes\n",
       ":   0.692991445901884count_avg_glucose_level\n",
       ":   1.00629595637295count_bmi\n",
       ":   0.976936250073314zero_(Intercept)\n",
       ":   407226.936279088zero_genderMale\n",
       ":   3.06640754497311zero_age\n",
       ":   0.812957361614227zero_hypertensionno hypertension\n",
       ":   11742.0540365369zero_heart_diseaseno heart disease\n",
       ":   11.0757996879412zero_ever_marriedYes\n",
       ":   0.0197456931032652zero_avg_glucose_level\n",
       ":   1.04908140718287zero_bmi\n",
       ":   0.531404420918438\n",
       "\n"
      ],
      "text/plain": [
       "                  count_(Intercept)                    count_genderMale \n",
       "                       1.237716e-02                        1.020153e+00 \n",
       "                          count_age   count_hypertensionno hypertension \n",
       "                       1.042381e+00                        7.280632e-01 \n",
       "count_heart_diseaseno heart disease               count_ever_marriedYes \n",
       "                       7.748763e-01                        6.929914e-01 \n",
       "            count_avg_glucose_level                           count_bmi \n",
       "                       1.006296e+00                        9.769363e-01 \n",
       "                   zero_(Intercept)                     zero_genderMale \n",
       "                       4.072269e+05                        3.066408e+00 \n",
       "                           zero_age    zero_hypertensionno hypertension \n",
       "                       8.129574e-01                        1.174205e+04 \n",
       " zero_heart_diseaseno heart disease                zero_ever_marriedYes \n",
       "                       1.107580e+01                        1.974569e-02 \n",
       "             zero_avg_glucose_level                            zero_bmi \n",
       "                       1.049081e+00                        5.314044e-01 "
      ]
     },
     "metadata": {},
     "output_type": "display_data"
    }
   ],
   "source": [
    "stroke_original_zero = zeroinfl(ifelse(as.numeric(data$stroke)==1,0,1)~ gender+age+hypertension+heart_disease+\n",
    "               ever_married+avg_glucose_level+bmi,data=data,\n",
    "                    dist = \"negbin\")\n",
    "\n",
    "                       ### dist = \"negbin\" may be used\n",
    "\n",
    "summary(stroke_original_zero)\n",
    "exp(coef(stroke_original_zero))  # Razones de ventajas (\"odds ratios\")"
   ]
  },
  {
   "cell_type": "code",
   "execution_count": 26,
   "id": "ee48b611",
   "metadata": {},
   "outputs": [
    {
     "data": {
      "text/html": [
       "<table class=\"dataframe\">\n",
       "<caption>A matrix: 2 × 6 of type dbl</caption>\n",
       "<thead>\n",
       "\t<tr><th></th><th scope=col>0</th><th scope=col>1</th><th scope=col>Exactitud</th><th scope=col>Deviance</th><th scope=col>AIC</th><th scope=col>Var Explicada</th></tr>\n",
       "</thead>\n",
       "<tbody>\n",
       "\t<tr><th scope=row>0</th><td>1898</td><td>1</td><td>0.9086124</td><td>1165.914</td><td>1193.914</td><td>8.76885</td></tr>\n",
       "\t<tr><th scope=row>1</th><td> 190</td><td>1</td><td>0.9086124</td><td>1165.914</td><td>1193.914</td><td>8.76885</td></tr>\n",
       "</tbody>\n",
       "</table>\n"
      ],
      "text/latex": [
       "A matrix: 2 × 6 of type dbl\n",
       "\\begin{tabular}{r|llllll}\n",
       "  & 0 & 1 & Exactitud & Deviance & AIC & Var Explicada\\\\\n",
       "\\hline\n",
       "\t0 & 1898 & 1 & 0.9086124 & 1165.914 & 1193.914 & 8.76885\\\\\n",
       "\t1 &  190 & 1 & 0.9086124 & 1165.914 & 1193.914 & 8.76885\\\\\n",
       "\\end{tabular}\n"
      ],
      "text/markdown": [
       "\n",
       "A matrix: 2 × 6 of type dbl\n",
       "\n",
       "| <!--/--> | 0 | 1 | Exactitud | Deviance | AIC | Var Explicada |\n",
       "|---|---|---|---|---|---|---|\n",
       "| 0 | 1898 | 1 | 0.9086124 | 1165.914 | 1193.914 | 8.76885 |\n",
       "| 1 |  190 | 1 | 0.9086124 | 1165.914 | 1193.914 | 8.76885 |\n",
       "\n"
      ],
      "text/plain": [
       "  0    1 Exactitud Deviance AIC      Var Explicada\n",
       "0 1898 1 0.9086124 1165.914 1193.914 8.76885      \n",
       "1  190 1 0.9086124 1165.914 1193.914 8.76885      "
      ]
     },
     "metadata": {},
     "output_type": "display_data"
    }
   ],
   "source": [
    "prediccion_modelo(stroke_original_1)"
   ]
  },
  {
   "cell_type": "code",
   "execution_count": 27,
   "id": "0d5cc898",
   "metadata": {},
   "outputs": [],
   "source": [
    "n=500\n",
    "strokes_s=data %>% filter(stroke == 1)\n",
    "ssy = sample_n(strokes_s, size = n,replace = TRUE)\n",
    "\n",
    "strokes_n=data %>% filter(stroke == 0)\n",
    "ssn = sample_n(strokes_n, size = n,replace = TRUE)"
   ]
  },
  {
   "cell_type": "code",
   "execution_count": 28,
   "id": "33e29ad8",
   "metadata": {},
   "outputs": [],
   "source": [
    "newdata = rbind(ssy,ssn)\n",
    "newdata = data.frame(newdata)"
   ]
  },
  {
   "cell_type": "code",
   "execution_count": 29,
   "id": "bb4ee901",
   "metadata": {
    "scrolled": true
   },
   "outputs": [
    {
     "data": {
      "text/html": [
       "<table class=\"dataframe\">\n",
       "<caption>A data.frame: 6 × 12</caption>\n",
       "<thead>\n",
       "\t<tr><th></th><th scope=col>gender</th><th scope=col>age</th><th scope=col>hypertension</th><th scope=col>heart_disease</th><th scope=col>ever_married</th><th scope=col>work_type</th><th scope=col>Residence_type</th><th scope=col>avg_glucose_level</th><th scope=col>bmi</th><th scope=col>smoking_status</th><th scope=col>stroke</th><th scope=col>stroke_t</th></tr>\n",
       "\t<tr><th></th><th scope=col>&lt;fct&gt;</th><th scope=col>&lt;dbl&gt;</th><th scope=col>&lt;fct&gt;</th><th scope=col>&lt;fct&gt;</th><th scope=col>&lt;fct&gt;</th><th scope=col>&lt;fct&gt;</th><th scope=col>&lt;chr&gt;</th><th scope=col>&lt;dbl&gt;</th><th scope=col>&lt;dbl&gt;</th><th scope=col>&lt;chr&gt;</th><th scope=col>&lt;fct&gt;</th><th scope=col>&lt;fct&gt;</th></tr>\n",
       "</thead>\n",
       "<tbody>\n",
       "\t<tr><th scope=row>1</th><td>Male  </td><td>56</td><td>hypertension   </td><td>no heart disease</td><td>Yes</td><td>Private      </td><td>Rural</td><td>249.31</td><td>35.8</td><td>never smoked   </td><td>1</td><td>stroke</td></tr>\n",
       "\t<tr><th scope=row>2</th><td>Male  </td><td>69</td><td>no hypertension</td><td>no heart disease</td><td>Yes</td><td>Private      </td><td>Rural</td><td> 93.81</td><td>28.5</td><td>Unknown        </td><td>1</td><td>stroke</td></tr>\n",
       "\t<tr><th scope=row>3</th><td>Female</td><td>81</td><td>no hypertension</td><td>no heart disease</td><td>Yes</td><td>Self-employed</td><td>Urban</td><td> 95.84</td><td>21.5</td><td>never smoked   </td><td>1</td><td>stroke</td></tr>\n",
       "\t<tr><th scope=row>4</th><td>Male  </td><td>77</td><td>no hypertension</td><td>no heart disease</td><td>Yes</td><td>Self-employed</td><td>Rural</td><td>162.14</td><td>32.6</td><td>formerly smoked</td><td>1</td><td>stroke</td></tr>\n",
       "\t<tr><th scope=row>5</th><td>Male  </td><td>76</td><td>hypertension   </td><td>no heart disease</td><td>Yes</td><td>Private      </td><td>Rural</td><td>243.58</td><td>33.6</td><td>never smoked   </td><td>1</td><td>stroke</td></tr>\n",
       "\t<tr><th scope=row>6</th><td>Female</td><td>55</td><td>no hypertension</td><td>no heart disease</td><td>Yes</td><td>Self-employed</td><td>Rural</td><td> 92.98</td><td>25.6</td><td>never smoked   </td><td>1</td><td>stroke</td></tr>\n",
       "</tbody>\n",
       "</table>\n"
      ],
      "text/latex": [
       "A data.frame: 6 × 12\n",
       "\\begin{tabular}{r|llllllllllll}\n",
       "  & gender & age & hypertension & heart\\_disease & ever\\_married & work\\_type & Residence\\_type & avg\\_glucose\\_level & bmi & smoking\\_status & stroke & stroke\\_t\\\\\n",
       "  & <fct> & <dbl> & <fct> & <fct> & <fct> & <fct> & <chr> & <dbl> & <dbl> & <chr> & <fct> & <fct>\\\\\n",
       "\\hline\n",
       "\t1 & Male   & 56 & hypertension    & no heart disease & Yes & Private       & Rural & 249.31 & 35.8 & never smoked    & 1 & stroke\\\\\n",
       "\t2 & Male   & 69 & no hypertension & no heart disease & Yes & Private       & Rural &  93.81 & 28.5 & Unknown         & 1 & stroke\\\\\n",
       "\t3 & Female & 81 & no hypertension & no heart disease & Yes & Self-employed & Urban &  95.84 & 21.5 & never smoked    & 1 & stroke\\\\\n",
       "\t4 & Male   & 77 & no hypertension & no heart disease & Yes & Self-employed & Rural & 162.14 & 32.6 & formerly smoked & 1 & stroke\\\\\n",
       "\t5 & Male   & 76 & hypertension    & no heart disease & Yes & Private       & Rural & 243.58 & 33.6 & never smoked    & 1 & stroke\\\\\n",
       "\t6 & Female & 55 & no hypertension & no heart disease & Yes & Self-employed & Rural &  92.98 & 25.6 & never smoked    & 1 & stroke\\\\\n",
       "\\end{tabular}\n"
      ],
      "text/markdown": [
       "\n",
       "A data.frame: 6 × 12\n",
       "\n",
       "| <!--/--> | gender &lt;fct&gt; | age &lt;dbl&gt; | hypertension &lt;fct&gt; | heart_disease &lt;fct&gt; | ever_married &lt;fct&gt; | work_type &lt;fct&gt; | Residence_type &lt;chr&gt; | avg_glucose_level &lt;dbl&gt; | bmi &lt;dbl&gt; | smoking_status &lt;chr&gt; | stroke &lt;fct&gt; | stroke_t &lt;fct&gt; |\n",
       "|---|---|---|---|---|---|---|---|---|---|---|---|---|\n",
       "| 1 | Male   | 56 | hypertension    | no heart disease | Yes | Private       | Rural | 249.31 | 35.8 | never smoked    | 1 | stroke |\n",
       "| 2 | Male   | 69 | no hypertension | no heart disease | Yes | Private       | Rural |  93.81 | 28.5 | Unknown         | 1 | stroke |\n",
       "| 3 | Female | 81 | no hypertension | no heart disease | Yes | Self-employed | Urban |  95.84 | 21.5 | never smoked    | 1 | stroke |\n",
       "| 4 | Male   | 77 | no hypertension | no heart disease | Yes | Self-employed | Rural | 162.14 | 32.6 | formerly smoked | 1 | stroke |\n",
       "| 5 | Male   | 76 | hypertension    | no heart disease | Yes | Private       | Rural | 243.58 | 33.6 | never smoked    | 1 | stroke |\n",
       "| 6 | Female | 55 | no hypertension | no heart disease | Yes | Self-employed | Rural |  92.98 | 25.6 | never smoked    | 1 | stroke |\n",
       "\n"
      ],
      "text/plain": [
       "  gender age hypertension    heart_disease    ever_married work_type    \n",
       "1 Male   56  hypertension    no heart disease Yes          Private      \n",
       "2 Male   69  no hypertension no heart disease Yes          Private      \n",
       "3 Female 81  no hypertension no heart disease Yes          Self-employed\n",
       "4 Male   77  no hypertension no heart disease Yes          Self-employed\n",
       "5 Male   76  hypertension    no heart disease Yes          Private      \n",
       "6 Female 55  no hypertension no heart disease Yes          Self-employed\n",
       "  Residence_type avg_glucose_level bmi  smoking_status  stroke stroke_t\n",
       "1 Rural          249.31            35.8 never smoked    1      stroke  \n",
       "2 Rural           93.81            28.5 Unknown         1      stroke  \n",
       "3 Urban           95.84            21.5 never smoked    1      stroke  \n",
       "4 Rural          162.14            32.6 formerly smoked 1      stroke  \n",
       "5 Rural          243.58            33.6 never smoked    1      stroke  \n",
       "6 Rural           92.98            25.6 never smoked    1      stroke  "
      ]
     },
     "metadata": {},
     "output_type": "display_data"
    }
   ],
   "source": [
    "head(newdata)"
   ]
  },
  {
   "cell_type": "code",
   "execution_count": 30,
   "id": "0a4e19d6",
   "metadata": {},
   "outputs": [
    {
     "name": "stderr",
     "output_type": "stream",
     "text": [
      "Warning message in model.matrix.default(mt, mf, contrasts):\n",
      "\"the response appeared on the right-hand side and was dropped\"\n",
      "Warning message in model.matrix.default(mt, mf, contrasts):\n",
      "\"problem with term 11 in model.matrix: no columns are assigned\"\n"
     ]
    },
    {
     "data": {
      "text/plain": [
       "\n",
       "Call:\n",
       "glm(formula = stroke ~ gender + age + hypertension + heart_disease + \n",
       "    ever_married + work_type + Residence_type + avg_glucose_level + \n",
       "    bmi + smoking_status + stroke, family = binomial(link = \"logit\"), \n",
       "    data = newdata)\n",
       "\n",
       "Deviance Residuals: \n",
       "     Min        1Q    Median        3Q       Max  \n",
       "-2.45210  -0.96633  -0.07574   0.97228   2.02544  \n",
       "\n",
       "Coefficients:\n",
       "                               Estimate Std. Error z value Pr(>|z|)    \n",
       "(Intercept)                   -3.773148   0.867214  -4.351 1.36e-05 ***\n",
       "genderMale                     0.044928   0.148002   0.304 0.761460    \n",
       "age                            0.068317   0.008177   8.354  < 2e-16 ***\n",
       "hypertensionno hypertension   -0.614649   0.172513  -3.563 0.000367 ***\n",
       "heart_diseaseno heart disease -0.599271   0.221775  -2.702 0.006889 ** \n",
       "ever_marriedYes               -0.613587   0.278730  -2.201 0.027710 *  \n",
       "work_typePrivate              -0.104210   0.214324  -0.486 0.626807    \n",
       "work_typeSelf-employed        -0.292335   0.239352  -1.221 0.221950    \n",
       "Residence_typeUrban           -0.238865   0.142571  -1.675 0.093854 .  \n",
       "avg_glucose_level              0.007914   0.001324   5.975 2.29e-09 ***\n",
       "bmi                            0.001624   0.011911   0.136 0.891536    \n",
       "smoking_statusnever smoked    -0.270060   0.176220  -1.533 0.125395    \n",
       "smoking_statussmokes           0.210888   0.232944   0.905 0.365298    \n",
       "smoking_statusUnknown         -0.116966   0.222493  -0.526 0.599094    \n",
       "---\n",
       "Signif. codes:  0 '***' 0.001 '**' 0.01 '*' 0.05 '.' 0.1 ' ' 1\n",
       "\n",
       "(Dispersion parameter for binomial family taken to be 1)\n",
       "\n",
       "    Null deviance: 1386.3  on 999  degrees of freedom\n",
       "Residual deviance: 1174.7  on 986  degrees of freedom\n",
       "AIC: 1202.7\n",
       "\n",
       "Number of Fisher Scoring iterations: 4\n"
      ]
     },
     "metadata": {},
     "output_type": "display_data"
    },
    {
     "data": {
      "text/html": [
       "<style>\n",
       ".dl-inline {width: auto; margin:0; padding: 0}\n",
       ".dl-inline>dt, .dl-inline>dd {float: none; width: auto; display: inline-block}\n",
       ".dl-inline>dt::after {content: \":\\0020\"; padding-right: .5ex}\n",
       ".dl-inline>dt:not(:first-of-type) {padding-left: .5ex}\n",
       "</style><dl class=dl-inline><dt>(Intercept)</dt><dd>0.0229796187458536</dd><dt>genderMale</dt><dd>1.04595256500895</dd><dt>age</dt><dd>1.07070428674397</dd><dt>hypertensionno hypertension</dt><dd>0.540830942251586</dd><dt>heart_diseaseno heart disease</dt><dd>0.549211673406908</dd><dt>ever_marriedYes</dt><dd>0.541405435650445</dd><dt>work_typePrivate</dt><dd>0.901036091386262</dd><dt>work_typeSelf-employed</dt><dd>0.746518366651658</dd><dt>Residence_typeUrban</dt><dd>0.787521331277614</dd><dt>avg_glucose_level</dt><dd>1.00794496558871</dd><dt>bmi</dt><dd>1.00162553553644</dd><dt>smoking_statusnever smoked</dt><dd>0.7633333273579</dd><dt>smoking_statussmokes</dt><dd>1.23477358983514</dd><dt>smoking_statusUnknown</dt><dd>0.889615839536873</dd></dl>\n"
      ],
      "text/latex": [
       "\\begin{description*}\n",
       "\\item[(Intercept)] 0.0229796187458536\n",
       "\\item[genderMale] 1.04595256500895\n",
       "\\item[age] 1.07070428674397\n",
       "\\item[hypertensionno hypertension] 0.540830942251586\n",
       "\\item[heart\\textbackslash{}\\_diseaseno heart disease] 0.549211673406908\n",
       "\\item[ever\\textbackslash{}\\_marriedYes] 0.541405435650445\n",
       "\\item[work\\textbackslash{}\\_typePrivate] 0.901036091386262\n",
       "\\item[work\\textbackslash{}\\_typeSelf-employed] 0.746518366651658\n",
       "\\item[Residence\\textbackslash{}\\_typeUrban] 0.787521331277614\n",
       "\\item[avg\\textbackslash{}\\_glucose\\textbackslash{}\\_level] 1.00794496558871\n",
       "\\item[bmi] 1.00162553553644\n",
       "\\item[smoking\\textbackslash{}\\_statusnever smoked] 0.7633333273579\n",
       "\\item[smoking\\textbackslash{}\\_statussmokes] 1.23477358983514\n",
       "\\item[smoking\\textbackslash{}\\_statusUnknown] 0.889615839536873\n",
       "\\end{description*}\n"
      ],
      "text/markdown": [
       "(Intercept)\n",
       ":   0.0229796187458536genderMale\n",
       ":   1.04595256500895age\n",
       ":   1.07070428674397hypertensionno hypertension\n",
       ":   0.540830942251586heart_diseaseno heart disease\n",
       ":   0.549211673406908ever_marriedYes\n",
       ":   0.541405435650445work_typePrivate\n",
       ":   0.901036091386262work_typeSelf-employed\n",
       ":   0.746518366651658Residence_typeUrban\n",
       ":   0.787521331277614avg_glucose_level\n",
       ":   1.00794496558871bmi\n",
       ":   1.00162553553644smoking_statusnever smoked\n",
       ":   0.7633333273579smoking_statussmokes\n",
       ":   1.23477358983514smoking_statusUnknown\n",
       ":   0.889615839536873\n",
       "\n"
      ],
      "text/plain": [
       "                  (Intercept)                    genderMale \n",
       "                   0.02297962                    1.04595257 \n",
       "                          age   hypertensionno hypertension \n",
       "                   1.07070429                    0.54083094 \n",
       "heart_diseaseno heart disease               ever_marriedYes \n",
       "                   0.54921167                    0.54140544 \n",
       "             work_typePrivate        work_typeSelf-employed \n",
       "                   0.90103609                    0.74651837 \n",
       "          Residence_typeUrban             avg_glucose_level \n",
       "                   0.78752133                    1.00794497 \n",
       "                          bmi    smoking_statusnever smoked \n",
       "                   1.00162554                    0.76333333 \n",
       "         smoking_statussmokes         smoking_statusUnknown \n",
       "                   1.23477359                    0.88961584 "
      ]
     },
     "metadata": {},
     "output_type": "display_data"
    }
   ],
   "source": [
    "stroke_balanceado_1 <- glm(stroke~gender+age+hypertension+heart_disease+ever_married+work_type+Residence_type+\n",
    "                              avg_glucose_level+bmi+smoking_status+stroke,data=newdata, family = binomial(link = \"logit\"))\n",
    "summary(stroke_balanceado_1)\n",
    "exp(coef(stroke_balanceado_1))  # Razones de ventajas (\"odds ratios\")"
   ]
  },
  {
   "cell_type": "code",
   "execution_count": 31,
   "id": "f77be22c",
   "metadata": {},
   "outputs": [
    {
     "data": {
      "text/plain": [
       "\n",
       "Call:\n",
       "glm(formula = stroke ~ age + hypertension + heart_disease + ever_married + \n",
       "    avg_glucose_level, family = binomial(link = \"logit\"), data = newdata)\n",
       "\n",
       "Deviance Residuals: \n",
       "     Min        1Q    Median        3Q       Max  \n",
       "-2.30030  -0.95831  -0.09314   0.98180   1.92502  \n",
       "\n",
       "Coefficients:\n",
       "                               Estimate Std. Error z value Pr(>|z|)    \n",
       "(Intercept)                   -3.753948   0.650750  -5.769 7.99e-09 ***\n",
       "age                            0.063157   0.007382   8.556  < 2e-16 ***\n",
       "hypertensionno hypertension   -0.566261   0.167696  -3.377 0.000734 ***\n",
       "heart_diseaseno heart disease -0.696492   0.215447  -3.233 0.001226 ** \n",
       "ever_marriedYes               -0.523434   0.273110  -1.917 0.055293 .  \n",
       "avg_glucose_level              0.007955   0.001245   6.388 1.68e-10 ***\n",
       "---\n",
       "Signif. codes:  0 '***' 0.001 '**' 0.01 '*' 0.05 '.' 0.1 ' ' 1\n",
       "\n",
       "(Dispersion parameter for binomial family taken to be 1)\n",
       "\n",
       "    Null deviance: 1386.3  on 999  degrees of freedom\n",
       "Residual deviance: 1184.9  on 994  degrees of freedom\n",
       "AIC: 1196.9\n",
       "\n",
       "Number of Fisher Scoring iterations: 4\n"
      ]
     },
     "metadata": {},
     "output_type": "display_data"
    },
    {
     "data": {
      "text/html": [
       "<style>\n",
       ".dl-inline {width: auto; margin:0; padding: 0}\n",
       ".dl-inline>dt, .dl-inline>dd {float: none; width: auto; display: inline-block}\n",
       ".dl-inline>dt::after {content: \":\\0020\"; padding-right: .5ex}\n",
       ".dl-inline>dt:not(:first-of-type) {padding-left: .5ex}\n",
       "</style><dl class=dl-inline><dt>(Intercept)</dt><dd>0.0234250852302896</dd><dt>age</dt><dd>1.06519451173797</dd><dt>hypertensionno hypertension</dt><dd>0.567644117637554</dd><dt>heart_diseaseno heart disease</dt><dd>0.498330360163595</dd><dt>ever_marriedYes</dt><dd>0.59248245207801</dd><dt>avg_glucose_level</dt><dd>1.00798681853804</dd></dl>\n"
      ],
      "text/latex": [
       "\\begin{description*}\n",
       "\\item[(Intercept)] 0.0234250852302896\n",
       "\\item[age] 1.06519451173797\n",
       "\\item[hypertensionno hypertension] 0.567644117637554\n",
       "\\item[heart\\textbackslash{}\\_diseaseno heart disease] 0.498330360163595\n",
       "\\item[ever\\textbackslash{}\\_marriedYes] 0.59248245207801\n",
       "\\item[avg\\textbackslash{}\\_glucose\\textbackslash{}\\_level] 1.00798681853804\n",
       "\\end{description*}\n"
      ],
      "text/markdown": [
       "(Intercept)\n",
       ":   0.0234250852302896age\n",
       ":   1.06519451173797hypertensionno hypertension\n",
       ":   0.567644117637554heart_diseaseno heart disease\n",
       ":   0.498330360163595ever_marriedYes\n",
       ":   0.59248245207801avg_glucose_level\n",
       ":   1.00798681853804\n",
       "\n"
      ],
      "text/plain": [
       "                  (Intercept)                           age \n",
       "                   0.02342509                    1.06519451 \n",
       "  hypertensionno hypertension heart_diseaseno heart disease \n",
       "                   0.56764412                    0.49833036 \n",
       "              ever_marriedYes             avg_glucose_level \n",
       "                   0.59248245                    1.00798682 "
      ]
     },
     "metadata": {},
     "output_type": "display_data"
    }
   ],
   "source": [
    "stroke_balanceado_2 <- glm(stroke~ age+hypertension+heart_disease+ever_married+avg_glucose_level,\n",
    "data=newdata, family = binomial(link = \"logit\"))\n",
    "summary(stroke_balanceado_2)\n",
    "exp(coef(stroke_balanceado_2))  # Razones de ventajas (\"odds ratios\")"
   ]
  },
  {
   "cell_type": "code",
   "execution_count": 32,
   "id": "bc6e4633",
   "metadata": {},
   "outputs": [
    {
     "data": {
      "text/plain": [
       "\n",
       "Call:\n",
       "glm(formula = stroke ~ age + hypertension * ever_married + avg_glucose_level + \n",
       "    heart_disease, family = binomial(link = \"logit\"), data = newdata)\n",
       "\n",
       "Deviance Residuals: \n",
       "    Min       1Q   Median       3Q      Max  \n",
       "-2.2839  -0.9585  -0.0909   0.9826   1.9206  \n",
       "\n",
       "Coefficients:\n",
       "                                             Estimate Std. Error z value\n",
       "(Intercept)                                 -3.526631   0.720294  -4.896\n",
       "age                                          0.063294   0.007389   8.566\n",
       "hypertensionno hypertension                 -0.960342   0.545007  -1.762\n",
       "ever_marriedYes                             -0.797253   0.458243  -1.740\n",
       "avg_glucose_level                            0.007931   0.001245   6.369\n",
       "heart_diseaseno heart disease               -0.688157   0.215761  -3.189\n",
       "hypertensionno hypertension:ever_marriedYes  0.436524   0.572606   0.762\n",
       "                                            Pr(>|z|)    \n",
       "(Intercept)                                 9.78e-07 ***\n",
       "age                                          < 2e-16 ***\n",
       "hypertensionno hypertension                  0.07806 .  \n",
       "ever_marriedYes                              0.08189 .  \n",
       "avg_glucose_level                           1.90e-10 ***\n",
       "heart_diseaseno heart disease                0.00143 ** \n",
       "hypertensionno hypertension:ever_marriedYes  0.44585    \n",
       "---\n",
       "Signif. codes:  0 '***' 0.001 '**' 0.01 '*' 0.05 '.' 0.1 ' ' 1\n",
       "\n",
       "(Dispersion parameter for binomial family taken to be 1)\n",
       "\n",
       "    Null deviance: 1386.3  on 999  degrees of freedom\n",
       "Residual deviance: 1184.3  on 993  degrees of freedom\n",
       "AIC: 1198.3\n",
       "\n",
       "Number of Fisher Scoring iterations: 4\n"
      ]
     },
     "metadata": {},
     "output_type": "display_data"
    },
    {
     "data": {
      "text/html": [
       "<style>\n",
       ".dl-inline {width: auto; margin:0; padding: 0}\n",
       ".dl-inline>dt, .dl-inline>dd {float: none; width: auto; display: inline-block}\n",
       ".dl-inline>dt::after {content: \":\\0020\"; padding-right: .5ex}\n",
       ".dl-inline>dt:not(:first-of-type) {padding-left: .5ex}\n",
       "</style><dl class=dl-inline><dt>(Intercept)</dt><dd>0.0294038176494035</dd><dt>age</dt><dd>1.06533986190373</dd><dt>hypertensionno hypertension</dt><dd>0.382762017522371</dd><dt>ever_marriedYes</dt><dd>0.450564785510748</dd><dt>avg_glucose_level</dt><dd>1.00796271475113</dd><dt>heart_diseaseno heart disease</dt><dd>0.502501326536521</dd><dt>hypertensionno hypertension:ever_marriedYes</dt><dd>1.54731865244467</dd></dl>\n"
      ],
      "text/latex": [
       "\\begin{description*}\n",
       "\\item[(Intercept)] 0.0294038176494035\n",
       "\\item[age] 1.06533986190373\n",
       "\\item[hypertensionno hypertension] 0.382762017522371\n",
       "\\item[ever\\textbackslash{}\\_marriedYes] 0.450564785510748\n",
       "\\item[avg\\textbackslash{}\\_glucose\\textbackslash{}\\_level] 1.00796271475113\n",
       "\\item[heart\\textbackslash{}\\_diseaseno heart disease] 0.502501326536521\n",
       "\\item[hypertensionno hypertension:ever\\textbackslash{}\\_marriedYes] 1.54731865244467\n",
       "\\end{description*}\n"
      ],
      "text/markdown": [
       "(Intercept)\n",
       ":   0.0294038176494035age\n",
       ":   1.06533986190373hypertensionno hypertension\n",
       ":   0.382762017522371ever_marriedYes\n",
       ":   0.450564785510748avg_glucose_level\n",
       ":   1.00796271475113heart_diseaseno heart disease\n",
       ":   0.502501326536521hypertensionno hypertension:ever_marriedYes\n",
       ":   1.54731865244467\n",
       "\n"
      ],
      "text/plain": [
       "                                (Intercept) \n",
       "                                 0.02940382 \n",
       "                                        age \n",
       "                                 1.06533986 \n",
       "                hypertensionno hypertension \n",
       "                                 0.38276202 \n",
       "                            ever_marriedYes \n",
       "                                 0.45056479 \n",
       "                          avg_glucose_level \n",
       "                                 1.00796271 \n",
       "              heart_diseaseno heart disease \n",
       "                                 0.50250133 \n",
       "hypertensionno hypertension:ever_marriedYes \n",
       "                                 1.54731865 "
      ]
     },
     "metadata": {},
     "output_type": "display_data"
    }
   ],
   "source": [
    "modelo_interaccion_Hiper_Casado <- glm(stroke~ age+hypertension*ever_married+avg_glucose_level+heart_disease,\n",
    "data=newdata, family = binomial(link = \"logit\"))\n",
    "summary(modelo_interaccion_Hiper_Casado)\n",
    "exp(coef(modelo_interaccion_Hiper_Casado))  # Razones de ventajas (\"odds ratios\")"
   ]
  },
  {
   "cell_type": "code",
   "execution_count": 33,
   "id": "c1fe0984",
   "metadata": {},
   "outputs": [
    {
     "data": {
      "text/plain": [
       "\n",
       "Call:\n",
       "glm(formula = stroke ~ age + hypertension * avg_glucose_level + \n",
       "    heart_disease + ever_married, family = binomial(link = \"logit\"), \n",
       "    data = newdata)\n",
       "\n",
       "Deviance Residuals: \n",
       "     Min        1Q    Median        3Q       Max  \n",
       "-2.29612  -0.95836  -0.09172   0.97962   1.92593  \n",
       "\n",
       "Coefficients:\n",
       "                                                Estimate Std. Error z value\n",
       "(Intercept)                                   -3.7388847  0.7072548  -5.286\n",
       "age                                            0.0631418  0.0073874   8.547\n",
       "hypertensionno hypertension                   -0.5859232  0.3986776  -1.470\n",
       "avg_glucose_level                              0.0078440  0.0023919   3.279\n",
       "heart_diseaseno heart disease                 -0.6957920  0.2158456  -3.224\n",
       "ever_marriedYes                               -0.5233799  0.2731233  -1.916\n",
       "hypertensionno hypertension:avg_glucose_level  0.0001517  0.0027895   0.054\n",
       "                                              Pr(>|z|)    \n",
       "(Intercept)                                   1.25e-07 ***\n",
       "age                                            < 2e-16 ***\n",
       "hypertensionno hypertension                    0.14165    \n",
       "avg_glucose_level                              0.00104 ** \n",
       "heart_diseaseno heart disease                  0.00127 ** \n",
       "ever_marriedYes                                0.05533 .  \n",
       "hypertensionno hypertension:avg_glucose_level  0.95664    \n",
       "---\n",
       "Signif. codes:  0 '***' 0.001 '**' 0.01 '*' 0.05 '.' 0.1 ' ' 1\n",
       "\n",
       "(Dispersion parameter for binomial family taken to be 1)\n",
       "\n",
       "    Null deviance: 1386.3  on 999  degrees of freedom\n",
       "Residual deviance: 1184.9  on 993  degrees of freedom\n",
       "AIC: 1198.9\n",
       "\n",
       "Number of Fisher Scoring iterations: 4\n"
      ]
     },
     "metadata": {},
     "output_type": "display_data"
    },
    {
     "data": {
      "text/html": [
       "<style>\n",
       ".dl-inline {width: auto; margin:0; padding: 0}\n",
       ".dl-inline>dt, .dl-inline>dd {float: none; width: auto; display: inline-block}\n",
       ".dl-inline>dt::after {content: \":\\0020\"; padding-right: .5ex}\n",
       ".dl-inline>dt:not(:first-of-type) {padding-left: .5ex}\n",
       "</style><dl class=dl-inline><dt>(Intercept)</dt><dd>0.0237806104073408</dd><dt>age</dt><dd>1.06517791163685</dd><dt>hypertensionno hypertension</dt><dd>0.556591793296716</dd><dt>avg_glucose_level</dt><dd>1.00787484034997</dd><dt>heart_diseaseno heart disease</dt><dd>0.498679362209933</dd><dt>ever_marriedYes</dt><dd>0.592514532192248</dd><dt>hypertensionno hypertension:avg_glucose_level</dt><dd>1.00015169210795</dd></dl>\n"
      ],
      "text/latex": [
       "\\begin{description*}\n",
       "\\item[(Intercept)] 0.0237806104073408\n",
       "\\item[age] 1.06517791163685\n",
       "\\item[hypertensionno hypertension] 0.556591793296716\n",
       "\\item[avg\\textbackslash{}\\_glucose\\textbackslash{}\\_level] 1.00787484034997\n",
       "\\item[heart\\textbackslash{}\\_diseaseno heart disease] 0.498679362209933\n",
       "\\item[ever\\textbackslash{}\\_marriedYes] 0.592514532192248\n",
       "\\item[hypertensionno hypertension:avg\\textbackslash{}\\_glucose\\textbackslash{}\\_level] 1.00015169210795\n",
       "\\end{description*}\n"
      ],
      "text/markdown": [
       "(Intercept)\n",
       ":   0.0237806104073408age\n",
       ":   1.06517791163685hypertensionno hypertension\n",
       ":   0.556591793296716avg_glucose_level\n",
       ":   1.00787484034997heart_diseaseno heart disease\n",
       ":   0.498679362209933ever_marriedYes\n",
       ":   0.592514532192248hypertensionno hypertension:avg_glucose_level\n",
       ":   1.00015169210795\n",
       "\n"
      ],
      "text/plain": [
       "                                  (Intercept) \n",
       "                                   0.02378061 \n",
       "                                          age \n",
       "                                   1.06517791 \n",
       "                  hypertensionno hypertension \n",
       "                                   0.55659179 \n",
       "                            avg_glucose_level \n",
       "                                   1.00787484 \n",
       "                heart_diseaseno heart disease \n",
       "                                   0.49867936 \n",
       "                              ever_marriedYes \n",
       "                                   0.59251453 \n",
       "hypertensionno hypertension:avg_glucose_level \n",
       "                                   1.00015169 "
      ]
     },
     "metadata": {},
     "output_type": "display_data"
    }
   ],
   "source": [
    "modelo_interaccion_Hiper_Glucosa <- glm(stroke~ age+hypertension*avg_glucose_level+heart_disease+ever_married,\n",
    "data=newdata, family = binomial(link = \"logit\"))\n",
    "summary(modelo_interaccion_Hiper_Glucosa)\n",
    "exp(coef(modelo_interaccion_Hiper_Glucosa))  # Razones de ventajas (\"odds ratios\")"
   ]
  },
  {
   "cell_type": "code",
   "execution_count": 34,
   "id": "43c51499",
   "metadata": {},
   "outputs": [
    {
     "data": {
      "text/plain": [
       "\n",
       "Call:\n",
       "glm(formula = stroke ~ age + hypertension + avg_glucose_level + \n",
       "    heart_disease * ever_married, family = binomial(link = \"logit\"), \n",
       "    data = newdata)\n",
       "\n",
       "Deviance Residuals: \n",
       "     Min        1Q    Median        3Q       Max  \n",
       "-2.29100  -0.95979  -0.09771   0.98880   1.92301  \n",
       "\n",
       "Coefficients:\n",
       "                                               Estimate Std. Error z value\n",
       "(Intercept)                                   -3.323181   1.206940  -2.753\n",
       "age                                            0.063137   0.007380   8.556\n",
       "hypertensionno hypertension                   -0.561705   0.168067  -3.342\n",
       "avg_glucose_level                              0.007946   0.001246   6.378\n",
       "heart_diseaseno heart disease                 -1.159974   1.102428  -1.052\n",
       "ever_marriedYes                               -0.973614   1.089852  -0.893\n",
       "heart_diseaseno heart disease:ever_marriedYes  0.484580   1.123336   0.431\n",
       "                                              Pr(>|z|)    \n",
       "(Intercept)                                   0.005898 ** \n",
       "age                                            < 2e-16 ***\n",
       "hypertensionno hypertension                   0.000831 ***\n",
       "avg_glucose_level                             1.79e-10 ***\n",
       "heart_diseaseno heart disease                 0.292708    \n",
       "ever_marriedYes                               0.371672    \n",
       "heart_diseaseno heart disease:ever_marriedYes 0.666195    \n",
       "---\n",
       "Signif. codes:  0 '***' 0.001 '**' 0.01 '*' 0.05 '.' 0.1 ' ' 1\n",
       "\n",
       "(Dispersion parameter for binomial family taken to be 1)\n",
       "\n",
       "    Null deviance: 1386.3  on 999  degrees of freedom\n",
       "Residual deviance: 1184.7  on 993  degrees of freedom\n",
       "AIC: 1198.7\n",
       "\n",
       "Number of Fisher Scoring iterations: 4\n"
      ]
     },
     "metadata": {},
     "output_type": "display_data"
    },
    {
     "data": {
      "text/html": [
       "<style>\n",
       ".dl-inline {width: auto; margin:0; padding: 0}\n",
       ".dl-inline>dt, .dl-inline>dd {float: none; width: auto; display: inline-block}\n",
       ".dl-inline>dt::after {content: \":\\0020\"; padding-right: .5ex}\n",
       ".dl-inline>dt:not(:first-of-type) {padding-left: .5ex}\n",
       "</style><dl class=dl-inline><dt>(Intercept)</dt><dd>0.0360380293167599</dd><dt>age</dt><dd>1.06517245610419</dd><dt>hypertensionno hypertension</dt><dd>0.57023610234324</dd><dt>avg_glucose_level</dt><dd>1.00797796298311</dd><dt>heart_diseaseno heart disease</dt><dd>0.313494245507663</dd><dt>ever_marriedYes</dt><dd>0.377715377259684</dd><dt>heart_diseaseno heart disease:ever_marriedYes</dt><dd>1.62349347366507</dd></dl>\n"
      ],
      "text/latex": [
       "\\begin{description*}\n",
       "\\item[(Intercept)] 0.0360380293167599\n",
       "\\item[age] 1.06517245610419\n",
       "\\item[hypertensionno hypertension] 0.57023610234324\n",
       "\\item[avg\\textbackslash{}\\_glucose\\textbackslash{}\\_level] 1.00797796298311\n",
       "\\item[heart\\textbackslash{}\\_diseaseno heart disease] 0.313494245507663\n",
       "\\item[ever\\textbackslash{}\\_marriedYes] 0.377715377259684\n",
       "\\item[heart\\textbackslash{}\\_diseaseno heart disease:ever\\textbackslash{}\\_marriedYes] 1.62349347366507\n",
       "\\end{description*}\n"
      ],
      "text/markdown": [
       "(Intercept)\n",
       ":   0.0360380293167599age\n",
       ":   1.06517245610419hypertensionno hypertension\n",
       ":   0.57023610234324avg_glucose_level\n",
       ":   1.00797796298311heart_diseaseno heart disease\n",
       ":   0.313494245507663ever_marriedYes\n",
       ":   0.377715377259684heart_diseaseno heart disease:ever_marriedYes\n",
       ":   1.62349347366507\n",
       "\n"
      ],
      "text/plain": [
       "                                  (Intercept) \n",
       "                                   0.03603803 \n",
       "                                          age \n",
       "                                   1.06517246 \n",
       "                  hypertensionno hypertension \n",
       "                                   0.57023610 \n",
       "                            avg_glucose_level \n",
       "                                   1.00797796 \n",
       "                heart_diseaseno heart disease \n",
       "                                   0.31349425 \n",
       "                              ever_marriedYes \n",
       "                                   0.37771538 \n",
       "heart_diseaseno heart disease:ever_marriedYes \n",
       "                                   1.62349347 "
      ]
     },
     "metadata": {},
     "output_type": "display_data"
    }
   ],
   "source": [
    "modelo_interaccion_heart_casado <- glm(stroke~ age+hypertension+avg_glucose_level+heart_disease*ever_married,\n",
    "data=newdata, family = binomial(link = \"logit\"))\n",
    "summary(modelo_interaccion_heart_casado)\n",
    "exp(coef(modelo_interaccion_heart_casado))  # Razones de ventajas (\"odds ratios\")"
   ]
  },
  {
   "cell_type": "code",
   "execution_count": 35,
   "id": "d76bf33d",
   "metadata": {
    "scrolled": false
   },
   "outputs": [
    {
     "data": {
      "text/html": [
       "<table class=\"dataframe\">\n",
       "<caption>A matrix: 2 × 6 of type dbl</caption>\n",
       "<thead>\n",
       "\t<tr><th></th><th scope=col>0</th><th scope=col>1</th><th scope=col>Exactitud</th><th scope=col>Deviance</th><th scope=col>AIC</th><th scope=col>Var Explicada</th></tr>\n",
       "</thead>\n",
       "<tbody>\n",
       "\t<tr><th scope=row>0</th><td>1898</td><td>1</td><td>0.9086124</td><td>1165.914</td><td>1193.914</td><td>8.76885</td></tr>\n",
       "\t<tr><th scope=row>1</th><td> 190</td><td>1</td><td>0.9086124</td><td>1165.914</td><td>1193.914</td><td>8.76885</td></tr>\n",
       "</tbody>\n",
       "</table>\n"
      ],
      "text/latex": [
       "A matrix: 2 × 6 of type dbl\n",
       "\\begin{tabular}{r|llllll}\n",
       "  & 0 & 1 & Exactitud & Deviance & AIC & Var Explicada\\\\\n",
       "\\hline\n",
       "\t0 & 1898 & 1 & 0.9086124 & 1165.914 & 1193.914 & 8.76885\\\\\n",
       "\t1 &  190 & 1 & 0.9086124 & 1165.914 & 1193.914 & 8.76885\\\\\n",
       "\\end{tabular}\n"
      ],
      "text/markdown": [
       "\n",
       "A matrix: 2 × 6 of type dbl\n",
       "\n",
       "| <!--/--> | 0 | 1 | Exactitud | Deviance | AIC | Var Explicada |\n",
       "|---|---|---|---|---|---|---|\n",
       "| 0 | 1898 | 1 | 0.9086124 | 1165.914 | 1193.914 | 8.76885 |\n",
       "| 1 |  190 | 1 | 0.9086124 | 1165.914 | 1193.914 | 8.76885 |\n",
       "\n"
      ],
      "text/plain": [
       "  0    1 Exactitud Deviance AIC      Var Explicada\n",
       "0 1898 1 0.9086124 1165.914 1193.914 8.76885      \n",
       "1  190 1 0.9086124 1165.914 1193.914 8.76885      "
      ]
     },
     "metadata": {},
     "output_type": "display_data"
    },
    {
     "data": {
      "text/html": [
       "<table class=\"dataframe\">\n",
       "<caption>A matrix: 2 × 6 of type dbl</caption>\n",
       "<thead>\n",
       "\t<tr><th></th><th scope=col>0</th><th scope=col>1</th><th scope=col>Exactitud</th><th scope=col>Deviance</th><th scope=col>AIC</th><th scope=col>Var Explicada</th></tr>\n",
       "</thead>\n",
       "<tbody>\n",
       "\t<tr><th scope=row>0</th><td>348</td><td>152</td><td>0.71</td><td>1184.876</td><td>1196.876</td><td>14.52928</td></tr>\n",
       "\t<tr><th scope=row>1</th><td>138</td><td>362</td><td>0.71</td><td>1184.876</td><td>1196.876</td><td>14.52928</td></tr>\n",
       "</tbody>\n",
       "</table>\n"
      ],
      "text/latex": [
       "A matrix: 2 × 6 of type dbl\n",
       "\\begin{tabular}{r|llllll}\n",
       "  & 0 & 1 & Exactitud & Deviance & AIC & Var Explicada\\\\\n",
       "\\hline\n",
       "\t0 & 348 & 152 & 0.71 & 1184.876 & 1196.876 & 14.52928\\\\\n",
       "\t1 & 138 & 362 & 0.71 & 1184.876 & 1196.876 & 14.52928\\\\\n",
       "\\end{tabular}\n"
      ],
      "text/markdown": [
       "\n",
       "A matrix: 2 × 6 of type dbl\n",
       "\n",
       "| <!--/--> | 0 | 1 | Exactitud | Deviance | AIC | Var Explicada |\n",
       "|---|---|---|---|---|---|---|\n",
       "| 0 | 348 | 152 | 0.71 | 1184.876 | 1196.876 | 14.52928 |\n",
       "| 1 | 138 | 362 | 0.71 | 1184.876 | 1196.876 | 14.52928 |\n",
       "\n"
      ],
      "text/plain": [
       "  0   1   Exactitud Deviance AIC      Var Explicada\n",
       "0 348 152 0.71      1184.876 1196.876 14.52928     \n",
       "1 138 362 0.71      1184.876 1196.876 14.52928     "
      ]
     },
     "metadata": {},
     "output_type": "display_data"
    },
    {
     "data": {
      "text/html": [
       "<table class=\"dataframe\">\n",
       "<caption>A matrix: 2 × 6 of type dbl</caption>\n",
       "<thead>\n",
       "\t<tr><th></th><th scope=col>0</th><th scope=col>1</th><th scope=col>Exactitud</th><th scope=col>Deviance</th><th scope=col>AIC</th><th scope=col>Var Explicada</th></tr>\n",
       "</thead>\n",
       "<tbody>\n",
       "\t<tr><th scope=row>0</th><td>347</td><td>153</td><td>0.708</td><td>1184.283</td><td>1198.283</td><td>14.57201</td></tr>\n",
       "\t<tr><th scope=row>1</th><td>139</td><td>361</td><td>0.708</td><td>1184.283</td><td>1198.283</td><td>14.57201</td></tr>\n",
       "</tbody>\n",
       "</table>\n"
      ],
      "text/latex": [
       "A matrix: 2 × 6 of type dbl\n",
       "\\begin{tabular}{r|llllll}\n",
       "  & 0 & 1 & Exactitud & Deviance & AIC & Var Explicada\\\\\n",
       "\\hline\n",
       "\t0 & 347 & 153 & 0.708 & 1184.283 & 1198.283 & 14.57201\\\\\n",
       "\t1 & 139 & 361 & 0.708 & 1184.283 & 1198.283 & 14.57201\\\\\n",
       "\\end{tabular}\n"
      ],
      "text/markdown": [
       "\n",
       "A matrix: 2 × 6 of type dbl\n",
       "\n",
       "| <!--/--> | 0 | 1 | Exactitud | Deviance | AIC | Var Explicada |\n",
       "|---|---|---|---|---|---|---|\n",
       "| 0 | 347 | 153 | 0.708 | 1184.283 | 1198.283 | 14.57201 |\n",
       "| 1 | 139 | 361 | 0.708 | 1184.283 | 1198.283 | 14.57201 |\n",
       "\n"
      ],
      "text/plain": [
       "  0   1   Exactitud Deviance AIC      Var Explicada\n",
       "0 347 153 0.708     1184.283 1198.283 14.57201     \n",
       "1 139 361 0.708     1184.283 1198.283 14.57201     "
      ]
     },
     "metadata": {},
     "output_type": "display_data"
    },
    {
     "data": {
      "text/html": [
       "<table class=\"dataframe\">\n",
       "<caption>A matrix: 2 × 6 of type dbl</caption>\n",
       "<thead>\n",
       "\t<tr><th></th><th scope=col>0</th><th scope=col>1</th><th scope=col>Exactitud</th><th scope=col>Deviance</th><th scope=col>AIC</th><th scope=col>Var Explicada</th></tr>\n",
       "</thead>\n",
       "<tbody>\n",
       "\t<tr><th scope=row>0</th><td>349</td><td>151</td><td>0.711</td><td>1184.873</td><td>1198.873</td><td>14.5295</td></tr>\n",
       "\t<tr><th scope=row>1</th><td>138</td><td>362</td><td>0.711</td><td>1184.873</td><td>1198.873</td><td>14.5295</td></tr>\n",
       "</tbody>\n",
       "</table>\n"
      ],
      "text/latex": [
       "A matrix: 2 × 6 of type dbl\n",
       "\\begin{tabular}{r|llllll}\n",
       "  & 0 & 1 & Exactitud & Deviance & AIC & Var Explicada\\\\\n",
       "\\hline\n",
       "\t0 & 349 & 151 & 0.711 & 1184.873 & 1198.873 & 14.5295\\\\\n",
       "\t1 & 138 & 362 & 0.711 & 1184.873 & 1198.873 & 14.5295\\\\\n",
       "\\end{tabular}\n"
      ],
      "text/markdown": [
       "\n",
       "A matrix: 2 × 6 of type dbl\n",
       "\n",
       "| <!--/--> | 0 | 1 | Exactitud | Deviance | AIC | Var Explicada |\n",
       "|---|---|---|---|---|---|---|\n",
       "| 0 | 349 | 151 | 0.711 | 1184.873 | 1198.873 | 14.5295 |\n",
       "| 1 | 138 | 362 | 0.711 | 1184.873 | 1198.873 | 14.5295 |\n",
       "\n"
      ],
      "text/plain": [
       "  0   1   Exactitud Deviance AIC      Var Explicada\n",
       "0 349 151 0.711     1184.873 1198.873 14.5295      \n",
       "1 138 362 0.711     1184.873 1198.873 14.5295      "
      ]
     },
     "metadata": {},
     "output_type": "display_data"
    },
    {
     "data": {
      "text/html": [
       "<table class=\"dataframe\">\n",
       "<caption>A matrix: 2 × 6 of type dbl</caption>\n",
       "<thead>\n",
       "\t<tr><th></th><th scope=col>0</th><th scope=col>1</th><th scope=col>Exactitud</th><th scope=col>Deviance</th><th scope=col>AIC</th><th scope=col>Var Explicada</th></tr>\n",
       "</thead>\n",
       "<tbody>\n",
       "\t<tr><th scope=row>0</th><td>348</td><td>152</td><td>0.71</td><td>1184.671</td><td>1198.671</td><td>14.54408</td></tr>\n",
       "\t<tr><th scope=row>1</th><td>138</td><td>362</td><td>0.71</td><td>1184.671</td><td>1198.671</td><td>14.54408</td></tr>\n",
       "</tbody>\n",
       "</table>\n"
      ],
      "text/latex": [
       "A matrix: 2 × 6 of type dbl\n",
       "\\begin{tabular}{r|llllll}\n",
       "  & 0 & 1 & Exactitud & Deviance & AIC & Var Explicada\\\\\n",
       "\\hline\n",
       "\t0 & 348 & 152 & 0.71 & 1184.671 & 1198.671 & 14.54408\\\\\n",
       "\t1 & 138 & 362 & 0.71 & 1184.671 & 1198.671 & 14.54408\\\\\n",
       "\\end{tabular}\n"
      ],
      "text/markdown": [
       "\n",
       "A matrix: 2 × 6 of type dbl\n",
       "\n",
       "| <!--/--> | 0 | 1 | Exactitud | Deviance | AIC | Var Explicada |\n",
       "|---|---|---|---|---|---|---|\n",
       "| 0 | 348 | 152 | 0.71 | 1184.671 | 1198.671 | 14.54408 |\n",
       "| 1 | 138 | 362 | 0.71 | 1184.671 | 1198.671 | 14.54408 |\n",
       "\n"
      ],
      "text/plain": [
       "  0   1   Exactitud Deviance AIC      Var Explicada\n",
       "0 348 152 0.71      1184.671 1198.671 14.54408     \n",
       "1 138 362 0.71      1184.671 1198.671 14.54408     "
      ]
     },
     "metadata": {},
     "output_type": "display_data"
    }
   ],
   "source": [
    "prediccion_modelo(stroke_original_1)\n",
    "prediccion_modelo(stroke_balanceado_2)\n",
    "prediccion_modelo(modelo_interaccion_Hiper_Casado)\n",
    "prediccion_modelo(modelo_interaccion_Hiper_Glucosa)\n",
    "prediccion_modelo(modelo_interaccion_heart_casado)"
   ]
  },
  {
   "cell_type": "code",
   "execution_count": 36,
   "id": "fa5de88c",
   "metadata": {},
   "outputs": [
    {
     "data": {
      "text/html": [
       "<table class=\"dataframe\">\n",
       "<caption>A data.frame: 5 × 5</caption>\n",
       "<thead>\n",
       "\t<tr><th></th><th scope=col>nombres</th><th scope=col>Exactitud</th><th scope=col>Deviance</th><th scope=col>AIC</th><th scope=col>Var.Explicada</th></tr>\n",
       "\t<tr><th></th><th scope=col>&lt;chr&gt;</th><th scope=col>&lt;dbl&gt;</th><th scope=col>&lt;dbl&gt;</th><th scope=col>&lt;dbl&gt;</th><th scope=col>&lt;dbl&gt;</th></tr>\n",
       "</thead>\n",
       "<tbody>\n",
       "\t<tr><th scope=row>1</th><td>Original           </td><td>0.9086124</td><td>1165.914</td><td>1193.914</td><td> 8.76885</td></tr>\n",
       "\t<tr><th scope=row>3</th><td>Int Hiper Casado   </td><td>0.7080000</td><td>1184.283</td><td>1198.283</td><td>14.57201</td></tr>\n",
       "\t<tr><th scope=row>5</th><td>Int Cardiaco Casado</td><td>0.7100000</td><td>1184.671</td><td>1198.671</td><td>14.54408</td></tr>\n",
       "\t<tr><th scope=row>4</th><td>Int Hiper Glucosa  </td><td>0.7110000</td><td>1184.873</td><td>1198.873</td><td>14.52950</td></tr>\n",
       "\t<tr><th scope=row>2</th><td>B Signif           </td><td>0.7100000</td><td>1184.876</td><td>1196.876</td><td>14.52928</td></tr>\n",
       "</tbody>\n",
       "</table>\n"
      ],
      "text/latex": [
       "A data.frame: 5 × 5\n",
       "\\begin{tabular}{r|lllll}\n",
       "  & nombres & Exactitud & Deviance & AIC & Var.Explicada\\\\\n",
       "  & <chr> & <dbl> & <dbl> & <dbl> & <dbl>\\\\\n",
       "\\hline\n",
       "\t1 & Original            & 0.9086124 & 1165.914 & 1193.914 &  8.76885\\\\\n",
       "\t3 & Int Hiper Casado    & 0.7080000 & 1184.283 & 1198.283 & 14.57201\\\\\n",
       "\t5 & Int Cardiaco Casado & 0.7100000 & 1184.671 & 1198.671 & 14.54408\\\\\n",
       "\t4 & Int Hiper Glucosa   & 0.7110000 & 1184.873 & 1198.873 & 14.52950\\\\\n",
       "\t2 & B Signif            & 0.7100000 & 1184.876 & 1196.876 & 14.52928\\\\\n",
       "\\end{tabular}\n"
      ],
      "text/markdown": [
       "\n",
       "A data.frame: 5 × 5\n",
       "\n",
       "| <!--/--> | nombres &lt;chr&gt; | Exactitud &lt;dbl&gt; | Deviance &lt;dbl&gt; | AIC &lt;dbl&gt; | Var.Explicada &lt;dbl&gt; |\n",
       "|---|---|---|---|---|---|\n",
       "| 1 | Original            | 0.9086124 | 1165.914 | 1193.914 |  8.76885 |\n",
       "| 3 | Int Hiper Casado    | 0.7080000 | 1184.283 | 1198.283 | 14.57201 |\n",
       "| 5 | Int Cardiaco Casado | 0.7100000 | 1184.671 | 1198.671 | 14.54408 |\n",
       "| 4 | Int Hiper Glucosa   | 0.7110000 | 1184.873 | 1198.873 | 14.52950 |\n",
       "| 2 | B Signif            | 0.7100000 | 1184.876 | 1196.876 | 14.52928 |\n",
       "\n"
      ],
      "text/plain": [
       "  nombres             Exactitud Deviance AIC      Var.Explicada\n",
       "1 Original            0.9086124 1165.914 1193.914  8.76885     \n",
       "3 Int Hiper Casado    0.7080000 1184.283 1198.283 14.57201     \n",
       "5 Int Cardiaco Casado 0.7100000 1184.671 1198.671 14.54408     \n",
       "4 Int Hiper Glucosa   0.7110000 1184.873 1198.873 14.52950     \n",
       "2 B Signif            0.7100000 1184.876 1196.876 14.52928     "
      ]
     },
     "metadata": {},
     "output_type": "display_data"
    },
    {
     "data": {
      "text/html": [
       "<table class=\"dataframe\">\n",
       "<caption>A data.frame: 5 × 5</caption>\n",
       "<thead>\n",
       "\t<tr><th></th><th scope=col>nombres</th><th scope=col>Exactitud</th><th scope=col>Deviance</th><th scope=col>AIC</th><th scope=col>Var.Explicada</th></tr>\n",
       "\t<tr><th></th><th scope=col>&lt;chr&gt;</th><th scope=col>&lt;dbl&gt;</th><th scope=col>&lt;dbl&gt;</th><th scope=col>&lt;dbl&gt;</th><th scope=col>&lt;dbl&gt;</th></tr>\n",
       "</thead>\n",
       "<tbody>\n",
       "\t<tr><th scope=row>1</th><td>Original           </td><td>0.9086124</td><td>1165.914</td><td>1193.914</td><td> 8.76885</td></tr>\n",
       "\t<tr><th scope=row>2</th><td>B Signif           </td><td>0.7100000</td><td>1184.876</td><td>1196.876</td><td>14.52928</td></tr>\n",
       "\t<tr><th scope=row>3</th><td>Int Hiper Casado   </td><td>0.7080000</td><td>1184.283</td><td>1198.283</td><td>14.57201</td></tr>\n",
       "\t<tr><th scope=row>5</th><td>Int Cardiaco Casado</td><td>0.7100000</td><td>1184.671</td><td>1198.671</td><td>14.54408</td></tr>\n",
       "\t<tr><th scope=row>4</th><td>Int Hiper Glucosa  </td><td>0.7110000</td><td>1184.873</td><td>1198.873</td><td>14.52950</td></tr>\n",
       "</tbody>\n",
       "</table>\n"
      ],
      "text/latex": [
       "A data.frame: 5 × 5\n",
       "\\begin{tabular}{r|lllll}\n",
       "  & nombres & Exactitud & Deviance & AIC & Var.Explicada\\\\\n",
       "  & <chr> & <dbl> & <dbl> & <dbl> & <dbl>\\\\\n",
       "\\hline\n",
       "\t1 & Original            & 0.9086124 & 1165.914 & 1193.914 &  8.76885\\\\\n",
       "\t2 & B Signif            & 0.7100000 & 1184.876 & 1196.876 & 14.52928\\\\\n",
       "\t3 & Int Hiper Casado    & 0.7080000 & 1184.283 & 1198.283 & 14.57201\\\\\n",
       "\t5 & Int Cardiaco Casado & 0.7100000 & 1184.671 & 1198.671 & 14.54408\\\\\n",
       "\t4 & Int Hiper Glucosa   & 0.7110000 & 1184.873 & 1198.873 & 14.52950\\\\\n",
       "\\end{tabular}\n"
      ],
      "text/markdown": [
       "\n",
       "A data.frame: 5 × 5\n",
       "\n",
       "| <!--/--> | nombres &lt;chr&gt; | Exactitud &lt;dbl&gt; | Deviance &lt;dbl&gt; | AIC &lt;dbl&gt; | Var.Explicada &lt;dbl&gt; |\n",
       "|---|---|---|---|---|---|\n",
       "| 1 | Original            | 0.9086124 | 1165.914 | 1193.914 |  8.76885 |\n",
       "| 2 | B Signif            | 0.7100000 | 1184.876 | 1196.876 | 14.52928 |\n",
       "| 3 | Int Hiper Casado    | 0.7080000 | 1184.283 | 1198.283 | 14.57201 |\n",
       "| 5 | Int Cardiaco Casado | 0.7100000 | 1184.671 | 1198.671 | 14.54408 |\n",
       "| 4 | Int Hiper Glucosa   | 0.7110000 | 1184.873 | 1198.873 | 14.52950 |\n",
       "\n"
      ],
      "text/plain": [
       "  nombres             Exactitud Deviance AIC      Var.Explicada\n",
       "1 Original            0.9086124 1165.914 1193.914  8.76885     \n",
       "2 B Signif            0.7100000 1184.876 1196.876 14.52928     \n",
       "3 Int Hiper Casado    0.7080000 1184.283 1198.283 14.57201     \n",
       "5 Int Cardiaco Casado 0.7100000 1184.671 1198.671 14.54408     \n",
       "4 Int Hiper Glucosa   0.7110000 1184.873 1198.873 14.52950     "
      ]
     },
     "metadata": {},
     "output_type": "display_data"
    },
    {
     "data": {
      "text/html": [
       "<table class=\"dataframe\">\n",
       "<caption>A data.frame: 5 × 5</caption>\n",
       "<thead>\n",
       "\t<tr><th></th><th scope=col>nombres</th><th scope=col>Exactitud</th><th scope=col>Deviance</th><th scope=col>AIC</th><th scope=col>Var.Explicada</th></tr>\n",
       "\t<tr><th></th><th scope=col>&lt;chr&gt;</th><th scope=col>&lt;dbl&gt;</th><th scope=col>&lt;dbl&gt;</th><th scope=col>&lt;dbl&gt;</th><th scope=col>&lt;dbl&gt;</th></tr>\n",
       "</thead>\n",
       "<tbody>\n",
       "\t<tr><th scope=row>3</th><td>Int Hiper Casado   </td><td>0.7080000</td><td>1184.283</td><td>1198.283</td><td>14.57201</td></tr>\n",
       "\t<tr><th scope=row>5</th><td>Int Cardiaco Casado</td><td>0.7100000</td><td>1184.671</td><td>1198.671</td><td>14.54408</td></tr>\n",
       "\t<tr><th scope=row>4</th><td>Int Hiper Glucosa  </td><td>0.7110000</td><td>1184.873</td><td>1198.873</td><td>14.52950</td></tr>\n",
       "\t<tr><th scope=row>2</th><td>B Signif           </td><td>0.7100000</td><td>1184.876</td><td>1196.876</td><td>14.52928</td></tr>\n",
       "\t<tr><th scope=row>1</th><td>Original           </td><td>0.9086124</td><td>1165.914</td><td>1193.914</td><td> 8.76885</td></tr>\n",
       "</tbody>\n",
       "</table>\n"
      ],
      "text/latex": [
       "A data.frame: 5 × 5\n",
       "\\begin{tabular}{r|lllll}\n",
       "  & nombres & Exactitud & Deviance & AIC & Var.Explicada\\\\\n",
       "  & <chr> & <dbl> & <dbl> & <dbl> & <dbl>\\\\\n",
       "\\hline\n",
       "\t3 & Int Hiper Casado    & 0.7080000 & 1184.283 & 1198.283 & 14.57201\\\\\n",
       "\t5 & Int Cardiaco Casado & 0.7100000 & 1184.671 & 1198.671 & 14.54408\\\\\n",
       "\t4 & Int Hiper Glucosa   & 0.7110000 & 1184.873 & 1198.873 & 14.52950\\\\\n",
       "\t2 & B Signif            & 0.7100000 & 1184.876 & 1196.876 & 14.52928\\\\\n",
       "\t1 & Original            & 0.9086124 & 1165.914 & 1193.914 &  8.76885\\\\\n",
       "\\end{tabular}\n"
      ],
      "text/markdown": [
       "\n",
       "A data.frame: 5 × 5\n",
       "\n",
       "| <!--/--> | nombres &lt;chr&gt; | Exactitud &lt;dbl&gt; | Deviance &lt;dbl&gt; | AIC &lt;dbl&gt; | Var.Explicada &lt;dbl&gt; |\n",
       "|---|---|---|---|---|---|\n",
       "| 3 | Int Hiper Casado    | 0.7080000 | 1184.283 | 1198.283 | 14.57201 |\n",
       "| 5 | Int Cardiaco Casado | 0.7100000 | 1184.671 | 1198.671 | 14.54408 |\n",
       "| 4 | Int Hiper Glucosa   | 0.7110000 | 1184.873 | 1198.873 | 14.52950 |\n",
       "| 2 | B Signif            | 0.7100000 | 1184.876 | 1196.876 | 14.52928 |\n",
       "| 1 | Original            | 0.9086124 | 1165.914 | 1193.914 |  8.76885 |\n",
       "\n"
      ],
      "text/plain": [
       "  nombres             Exactitud Deviance AIC      Var.Explicada\n",
       "3 Int Hiper Casado    0.7080000 1184.283 1198.283 14.57201     \n",
       "5 Int Cardiaco Casado 0.7100000 1184.671 1198.671 14.54408     \n",
       "4 Int Hiper Glucosa   0.7110000 1184.873 1198.873 14.52950     \n",
       "2 B Signif            0.7100000 1184.876 1196.876 14.52928     \n",
       "1 Original            0.9086124 1165.914 1193.914  8.76885     "
      ]
     },
     "metadata": {},
     "output_type": "display_data"
    }
   ],
   "source": [
    "modelos_aaa=rbind(prediccion_modelo(stroke_original_1)[1,-c(1,2)]\n",
    ",prediccion_modelo(stroke_balanceado_2)[1,-c(1,2)]\n",
    ",prediccion_modelo(modelo_interaccion_Hiper_Casado)[1,-c(1,2)]\n",
    ",prediccion_modelo(modelo_interaccion_Hiper_Glucosa)[1,-c(1,2)]\n",
    ",prediccion_modelo(modelo_interaccion_heart_casado)[1,-c(1,2)])\n",
    "nombres=c('Original','B Signif','Int Hiper Casado','Int Hiper Glucosa','Int Cardiaco Casado')\n",
    "\n",
    "ordenar=data.frame(nombres,modelos_aaa)\n",
    "\n",
    "ordenar[order(ordenar$Deviance,decreasing = FALSE),]\n",
    "\n",
    "ordenar[order(ordenar$AIC,decreasing = FALSE),]\n",
    "\n",
    "ordenar[order(ordenar$Var.Explicada,decreasing = TRUE),]"
   ]
  },
  {
   "cell_type": "markdown",
   "id": "6260e5c3",
   "metadata": {},
   "source": [
    "Analisis para los datos del ultimo modelo de muestras balanceadas"
   ]
  },
  {
   "cell_type": "code",
   "execution_count": 37,
   "id": "273e4189",
   "metadata": {},
   "outputs": [
    {
     "data": {
      "text/html": [
       "<table class=\"dataframe\">\n",
       "<caption>A tibble: 2 × 3</caption>\n",
       "<thead>\n",
       "\t<tr><th scope=col>gender</th><th scope=col>n</th><th scope=col>derrames</th></tr>\n",
       "\t<tr><th scope=col>&lt;fct&gt;</th><th scope=col>&lt;int&gt;</th><th scope=col>&lt;int&gt;</th></tr>\n",
       "</thead>\n",
       "<tbody>\n",
       "\t<tr><td>Female</td><td>586</td><td>276</td></tr>\n",
       "\t<tr><td>Male  </td><td>414</td><td>224</td></tr>\n",
       "</tbody>\n",
       "</table>\n"
      ],
      "text/latex": [
       "A tibble: 2 × 3\n",
       "\\begin{tabular}{lll}\n",
       " gender & n & derrames\\\\\n",
       " <fct> & <int> & <int>\\\\\n",
       "\\hline\n",
       "\t Female & 586 & 276\\\\\n",
       "\t Male   & 414 & 224\\\\\n",
       "\\end{tabular}\n"
      ],
      "text/markdown": [
       "\n",
       "A tibble: 2 × 3\n",
       "\n",
       "| gender &lt;fct&gt; | n &lt;int&gt; | derrames &lt;int&gt; |\n",
       "|---|---|---|\n",
       "| Female | 586 | 276 |\n",
       "| Male   | 414 | 224 |\n",
       "\n"
      ],
      "text/plain": [
       "  gender n   derrames\n",
       "1 Female 586 276     \n",
       "2 Male   414 224     "
      ]
     },
     "metadata": {},
     "output_type": "display_data"
    },
    {
     "data": {
      "text/html": [
       "<table class=\"dataframe\">\n",
       "<caption>A tibble: 2 × 3</caption>\n",
       "<thead>\n",
       "\t<tr><th scope=col>hypertension</th><th scope=col>n</th><th scope=col>derrames</th></tr>\n",
       "\t<tr><th scope=col>&lt;fct&gt;</th><th scope=col>&lt;int&gt;</th><th scope=col>&lt;int&gt;</th></tr>\n",
       "</thead>\n",
       "<tbody>\n",
       "\t<tr><td>hypertension   </td><td>243</td><td>157</td></tr>\n",
       "\t<tr><td>no hypertension</td><td>757</td><td>343</td></tr>\n",
       "</tbody>\n",
       "</table>\n"
      ],
      "text/latex": [
       "A tibble: 2 × 3\n",
       "\\begin{tabular}{lll}\n",
       " hypertension & n & derrames\\\\\n",
       " <fct> & <int> & <int>\\\\\n",
       "\\hline\n",
       "\t hypertension    & 243 & 157\\\\\n",
       "\t no hypertension & 757 & 343\\\\\n",
       "\\end{tabular}\n"
      ],
      "text/markdown": [
       "\n",
       "A tibble: 2 × 3\n",
       "\n",
       "| hypertension &lt;fct&gt; | n &lt;int&gt; | derrames &lt;int&gt; |\n",
       "|---|---|---|\n",
       "| hypertension    | 243 | 157 |\n",
       "| no hypertension | 757 | 343 |\n",
       "\n"
      ],
      "text/plain": [
       "  hypertension    n   derrames\n",
       "1 hypertension    243 157     \n",
       "2 no hypertension 757 343     "
      ]
     },
     "metadata": {},
     "output_type": "display_data"
    },
    {
     "data": {
      "text/html": [
       "<table class=\"dataframe\">\n",
       "<caption>A tibble: 2 × 3</caption>\n",
       "<thead>\n",
       "\t<tr><th scope=col>heart_disease</th><th scope=col>n</th><th scope=col>derrames</th></tr>\n",
       "\t<tr><th scope=col>&lt;fct&gt;</th><th scope=col>&lt;int&gt;</th><th scope=col>&lt;int&gt;</th></tr>\n",
       "</thead>\n",
       "<tbody>\n",
       "\t<tr><td>heart disease   </td><td>144</td><td>105</td></tr>\n",
       "\t<tr><td>no heart disease</td><td>856</td><td>395</td></tr>\n",
       "</tbody>\n",
       "</table>\n"
      ],
      "text/latex": [
       "A tibble: 2 × 3\n",
       "\\begin{tabular}{lll}\n",
       " heart\\_disease & n & derrames\\\\\n",
       " <fct> & <int> & <int>\\\\\n",
       "\\hline\n",
       "\t heart disease    & 144 & 105\\\\\n",
       "\t no heart disease & 856 & 395\\\\\n",
       "\\end{tabular}\n"
      ],
      "text/markdown": [
       "\n",
       "A tibble: 2 × 3\n",
       "\n",
       "| heart_disease &lt;fct&gt; | n &lt;int&gt; | derrames &lt;int&gt; |\n",
       "|---|---|---|\n",
       "| heart disease    | 144 | 105 |\n",
       "| no heart disease | 856 | 395 |\n",
       "\n"
      ],
      "text/plain": [
       "  heart_disease    n   derrames\n",
       "1 heart disease    144 105     \n",
       "2 no heart disease 856 395     "
      ]
     },
     "metadata": {},
     "output_type": "display_data"
    },
    {
     "data": {
      "text/html": [
       "<table class=\"dataframe\">\n",
       "<caption>A tibble: 2 × 3</caption>\n",
       "<thead>\n",
       "\t<tr><th scope=col>ever_married</th><th scope=col>n</th><th scope=col>derrames</th></tr>\n",
       "\t<tr><th scope=col>&lt;fct&gt;</th><th scope=col>&lt;int&gt;</th><th scope=col>&lt;int&gt;</th></tr>\n",
       "</thead>\n",
       "<tbody>\n",
       "\t<tr><td>No </td><td> 77</td><td> 47</td></tr>\n",
       "\t<tr><td>Yes</td><td>923</td><td>453</td></tr>\n",
       "</tbody>\n",
       "</table>\n"
      ],
      "text/latex": [
       "A tibble: 2 × 3\n",
       "\\begin{tabular}{lll}\n",
       " ever\\_married & n & derrames\\\\\n",
       " <fct> & <int> & <int>\\\\\n",
       "\\hline\n",
       "\t No  &  77 &  47\\\\\n",
       "\t Yes & 923 & 453\\\\\n",
       "\\end{tabular}\n"
      ],
      "text/markdown": [
       "\n",
       "A tibble: 2 × 3\n",
       "\n",
       "| ever_married &lt;fct&gt; | n &lt;int&gt; | derrames &lt;int&gt; |\n",
       "|---|---|---|\n",
       "| No  |  77 |  47 |\n",
       "| Yes | 923 | 453 |\n",
       "\n"
      ],
      "text/plain": [
       "  ever_married n   derrames\n",
       "1 No            77  47     \n",
       "2 Yes          923 453     "
      ]
     },
     "metadata": {},
     "output_type": "display_data"
    },
    {
     "data": {
      "text/html": [
       "<table class=\"dataframe\">\n",
       "<caption>A tibble: 3 × 3</caption>\n",
       "<thead>\n",
       "\t<tr><th scope=col>work_type</th><th scope=col>n</th><th scope=col>derrames</th></tr>\n",
       "\t<tr><th scope=col>&lt;fct&gt;</th><th scope=col>&lt;int&gt;</th><th scope=col>&lt;int&gt;</th></tr>\n",
       "</thead>\n",
       "<tbody>\n",
       "\t<tr><td>Govt_job     </td><td>141</td><td> 68</td></tr>\n",
       "\t<tr><td>Private      </td><td>586</td><td>293</td></tr>\n",
       "\t<tr><td>Self-employed</td><td>273</td><td>139</td></tr>\n",
       "</tbody>\n",
       "</table>\n"
      ],
      "text/latex": [
       "A tibble: 3 × 3\n",
       "\\begin{tabular}{lll}\n",
       " work\\_type & n & derrames\\\\\n",
       " <fct> & <int> & <int>\\\\\n",
       "\\hline\n",
       "\t Govt\\_job      & 141 &  68\\\\\n",
       "\t Private       & 586 & 293\\\\\n",
       "\t Self-employed & 273 & 139\\\\\n",
       "\\end{tabular}\n"
      ],
      "text/markdown": [
       "\n",
       "A tibble: 3 × 3\n",
       "\n",
       "| work_type &lt;fct&gt; | n &lt;int&gt; | derrames &lt;int&gt; |\n",
       "|---|---|---|\n",
       "| Govt_job      | 141 |  68 |\n",
       "| Private       | 586 | 293 |\n",
       "| Self-employed | 273 | 139 |\n",
       "\n"
      ],
      "text/plain": [
       "  work_type     n   derrames\n",
       "1 Govt_job      141  68     \n",
       "2 Private       586 293     \n",
       "3 Self-employed 273 139     "
      ]
     },
     "metadata": {},
     "output_type": "display_data"
    },
    {
     "data": {
      "text/html": [
       "<table class=\"dataframe\">\n",
       "<caption>A tibble: 2 × 3</caption>\n",
       "<thead>\n",
       "\t<tr><th scope=col>Residence_type</th><th scope=col>n</th><th scope=col>derrames</th></tr>\n",
       "\t<tr><th scope=col>&lt;chr&gt;</th><th scope=col>&lt;int&gt;</th><th scope=col>&lt;int&gt;</th></tr>\n",
       "</thead>\n",
       "<tbody>\n",
       "\t<tr><td>Rural</td><td>509</td><td>262</td></tr>\n",
       "\t<tr><td>Urban</td><td>491</td><td>238</td></tr>\n",
       "</tbody>\n",
       "</table>\n"
      ],
      "text/latex": [
       "A tibble: 2 × 3\n",
       "\\begin{tabular}{lll}\n",
       " Residence\\_type & n & derrames\\\\\n",
       " <chr> & <int> & <int>\\\\\n",
       "\\hline\n",
       "\t Rural & 509 & 262\\\\\n",
       "\t Urban & 491 & 238\\\\\n",
       "\\end{tabular}\n"
      ],
      "text/markdown": [
       "\n",
       "A tibble: 2 × 3\n",
       "\n",
       "| Residence_type &lt;chr&gt; | n &lt;int&gt; | derrames &lt;int&gt; |\n",
       "|---|---|---|\n",
       "| Rural | 509 | 262 |\n",
       "| Urban | 491 | 238 |\n",
       "\n"
      ],
      "text/plain": [
       "  Residence_type n   derrames\n",
       "1 Rural          509 262     \n",
       "2 Urban          491 238     "
      ]
     },
     "metadata": {},
     "output_type": "display_data"
    },
    {
     "data": {
      "text/html": [
       "<table class=\"dataframe\">\n",
       "<caption>A tibble: 4 × 3</caption>\n",
       "<thead>\n",
       "\t<tr><th scope=col>smoking_status</th><th scope=col>n</th><th scope=col>derrames</th></tr>\n",
       "\t<tr><th scope=col>&lt;chr&gt;</th><th scope=col>&lt;int&gt;</th><th scope=col>&lt;int&gt;</th></tr>\n",
       "</thead>\n",
       "<tbody>\n",
       "\t<tr><td>formerly smoked</td><td>284</td><td>148</td></tr>\n",
       "\t<tr><td>never smoked   </td><td>408</td><td>200</td></tr>\n",
       "\t<tr><td>smokes         </td><td>150</td><td> 82</td></tr>\n",
       "\t<tr><td>Unknown        </td><td>158</td><td> 70</td></tr>\n",
       "</tbody>\n",
       "</table>\n"
      ],
      "text/latex": [
       "A tibble: 4 × 3\n",
       "\\begin{tabular}{lll}\n",
       " smoking\\_status & n & derrames\\\\\n",
       " <chr> & <int> & <int>\\\\\n",
       "\\hline\n",
       "\t formerly smoked & 284 & 148\\\\\n",
       "\t never smoked    & 408 & 200\\\\\n",
       "\t smokes          & 150 &  82\\\\\n",
       "\t Unknown         & 158 &  70\\\\\n",
       "\\end{tabular}\n"
      ],
      "text/markdown": [
       "\n",
       "A tibble: 4 × 3\n",
       "\n",
       "| smoking_status &lt;chr&gt; | n &lt;int&gt; | derrames &lt;int&gt; |\n",
       "|---|---|---|\n",
       "| formerly smoked | 284 | 148 |\n",
       "| never smoked    | 408 | 200 |\n",
       "| smokes          | 150 |  82 |\n",
       "| Unknown         | 158 |  70 |\n",
       "\n"
      ],
      "text/plain": [
       "  smoking_status  n   derrames\n",
       "1 formerly smoked 284 148     \n",
       "2 never smoked    408 200     \n",
       "3 smokes          150  82     \n",
       "4 Unknown         158  70     "
      ]
     },
     "metadata": {},
     "output_type": "display_data"
    },
    {
     "data": {
      "text/html": [
       "<table class=\"dataframe\">\n",
       "<caption>A tibble: 2 × 3</caption>\n",
       "<thead>\n",
       "\t<tr><th scope=col>stroke</th><th scope=col>n</th><th scope=col>derrames</th></tr>\n",
       "\t<tr><th scope=col>&lt;fct&gt;</th><th scope=col>&lt;int&gt;</th><th scope=col>&lt;int&gt;</th></tr>\n",
       "</thead>\n",
       "<tbody>\n",
       "\t<tr><td>0</td><td>500</td><td>  0</td></tr>\n",
       "\t<tr><td>1</td><td>500</td><td>500</td></tr>\n",
       "</tbody>\n",
       "</table>\n"
      ],
      "text/latex": [
       "A tibble: 2 × 3\n",
       "\\begin{tabular}{lll}\n",
       " stroke & n & derrames\\\\\n",
       " <fct> & <int> & <int>\\\\\n",
       "\\hline\n",
       "\t 0 & 500 &   0\\\\\n",
       "\t 1 & 500 & 500\\\\\n",
       "\\end{tabular}\n"
      ],
      "text/markdown": [
       "\n",
       "A tibble: 2 × 3\n",
       "\n",
       "| stroke &lt;fct&gt; | n &lt;int&gt; | derrames &lt;int&gt; |\n",
       "|---|---|---|\n",
       "| 0 | 500 |   0 |\n",
       "| 1 | 500 | 500 |\n",
       "\n"
      ],
      "text/plain": [
       "  stroke n   derrames\n",
       "1 0      500   0     \n",
       "2 1      500 500     "
      ]
     },
     "metadata": {},
     "output_type": "display_data"
    },
    {
     "data": {
      "text/html": [
       "<table class=\"dataframe\">\n",
       "<caption>A tibble: 2 × 3</caption>\n",
       "<thead>\n",
       "\t<tr><th scope=col>stroke_t</th><th scope=col>n</th><th scope=col>derrames</th></tr>\n",
       "\t<tr><th scope=col>&lt;fct&gt;</th><th scope=col>&lt;int&gt;</th><th scope=col>&lt;int&gt;</th></tr>\n",
       "</thead>\n",
       "<tbody>\n",
       "\t<tr><td>no stroke</td><td>500</td><td>  0</td></tr>\n",
       "\t<tr><td>stroke   </td><td>500</td><td>500</td></tr>\n",
       "</tbody>\n",
       "</table>\n"
      ],
      "text/latex": [
       "A tibble: 2 × 3\n",
       "\\begin{tabular}{lll}\n",
       " stroke\\_t & n & derrames\\\\\n",
       " <fct> & <int> & <int>\\\\\n",
       "\\hline\n",
       "\t no stroke & 500 &   0\\\\\n",
       "\t stroke    & 500 & 500\\\\\n",
       "\\end{tabular}\n"
      ],
      "text/markdown": [
       "\n",
       "A tibble: 2 × 3\n",
       "\n",
       "| stroke_t &lt;fct&gt; | n &lt;int&gt; | derrames &lt;int&gt; |\n",
       "|---|---|---|\n",
       "| no stroke | 500 |   0 |\n",
       "| stroke    | 500 | 500 |\n",
       "\n"
      ],
      "text/plain": [
       "  stroke_t  n   derrames\n",
       "1 no stroke 500   0     \n",
       "2 stroke    500 500     "
      ]
     },
     "metadata": {},
     "output_type": "display_data"
    }
   ],
   "source": [
    "for (col_name in colnames(newdata[sapply(newdata, function(x) !(is.numeric(x)))])){\n",
    "    output <- newdata %>%\n",
    "        group_by(!!sym(col_name)) %>%\n",
    "        summarise(n = n(),\n",
    "            derrames = sum(stroke == 1)\n",
    "        )\n",
    "    View(output)\n",
    "}"
   ]
  },
  {
   "cell_type": "code",
   "execution_count": 38,
   "id": "56c64e83",
   "metadata": {},
   "outputs": [
    {
     "data": {
      "image/png": "[encoded data removed]",
      "text/plain": [
       "plot without title"
      ]
     },
     "metadata": {
      "image/png": {
       "height": 420,
       "width": 420
      }
     },
     "output_type": "display_data"
    }
   ],
   "source": [
    "ggplot(newdata, aes(x = age)) + \n",
    "    geom_histogram(fill = '#F8766D', col = 'black',bins = max(data$age)) +   \n",
    "labs(title = \"Histograma de la edad\",\n",
    "       x=\"Edad\",\n",
    "       y=\"Frecuencia\")"
   ]
  },
  {
   "cell_type": "code",
   "execution_count": 39,
   "id": "adf66602",
   "metadata": {},
   "outputs": [
    {
     "data": {
      "image/png": "[encoded data removed]",
      "text/plain": [
       "plot without title"
      ]
     },
     "metadata": {
      "image/png": {
       "height": 420,
       "width": 420
      }
     },
     "output_type": "display_data"
    }
   ],
   "source": [
    "ggplot(newdata, aes(x = age, fill = stroke_t))+ geom_density(alpha = 0.8) + \n",
    "  labs(title = \"Densidad empirica del derrame por edad\",\n",
    "       x=\"Edad\",\n",
    "       y=\"Densidad\") + scale_fill_discrete(name = \"Derrame\", labels = c(\"No\", \"Si\"))"
   ]
  },
  {
   "cell_type": "code",
   "execution_count": 40,
   "id": "81650e32",
   "metadata": {},
   "outputs": [
    {
     "data": {
      "image/png": "[encoded data removed]",
      "text/plain": [
       "plot without title"
      ]
     },
     "metadata": {
      "image/png": {
       "height": 420,
       "width": 420
      }
     },
     "output_type": "display_data"
    }
   ],
   "source": [
    "ggplot(data = newdata, aes(x=gender,fill=stroke))+geom_bar()+\n",
    "  labs(title = \"Número de personas según sexo\",\n",
    "       x=\"\",\n",
    "       y=\"Cantidad de personas\") + scale_fill_discrete(name = \"Derrame\", labels = c(\"No\", \"Si\")) + \n",
    "       geom_text(stat='count', aes(label=..count..), vjust=-1)"
   ]
  },
  {
   "cell_type": "code",
   "execution_count": 41,
   "id": "5c516d34",
   "metadata": {},
   "outputs": [
    {
     "data": {
      "image/png": "[encoded data removed]",
      "text/plain": [
       "plot without title"
      ]
     },
     "metadata": {
      "image/png": {
       "height": 420,
       "width": 420
      }
     },
     "output_type": "display_data"
    }
   ],
   "source": [
    "ggplot(data = newdata, aes(x=ever_married,fill=stroke))+geom_bar() + \n",
    "  labs(title = \"¿Ha estado casado alguna vez?\",\n",
    "       x=\"\",\n",
    "       y=\"Cantidad de personas\") + scale_fill_discrete(name = \"Derrame\", labels = c(\"No\", \"Si\")) + \n",
    "       geom_text(stat='count', aes(label=..count..), vjust=-1)"
   ]
  },
  {
   "cell_type": "code",
   "execution_count": 42,
   "id": "9bf1000a",
   "metadata": {},
   "outputs": [
    {
     "data": {
      "image/png": "[encoded data removed]",
      "text/plain": [
       "plot without title"
      ]
     },
     "metadata": {
      "image/png": {
       "height": 420,
       "width": 420
      }
     },
     "output_type": "display_data"
    }
   ],
   "source": [
    "ggplot(data = newdata, aes(x=heart_disease,fill=stroke))+geom_bar()+\n",
    "  labs(title = \"Número de personas con enfermedad del corazón\",\n",
    "       x=\"\",\n",
    "       y=\"Cantidad de personas\") + scale_fill_discrete(name = \"Derrame\", labels = c(\"No\", \"Si\")) + \n",
    "       geom_text(stat='count', aes(label=..count..), vjust=-1)"
   ]
  },
  {
   "cell_type": "code",
   "execution_count": 43,
   "id": "4d9ad063",
   "metadata": {},
   "outputs": [
    {
     "data": {
      "image/png": "[encoded data removed]",
      "text/plain": [
       "plot without title"
      ]
     },
     "metadata": {
      "image/png": {
       "height": 420,
       "width": 420
      }
     },
     "output_type": "display_data"
    }
   ],
   "source": [
    "ggplot(data = newdata, aes(x=hypertension,fill=stroke))+geom_bar()+\n",
    "  labs(title = \"Número de personas con hipertensio\",\n",
    "       x=\"\",\n",
    "       y=\"Cantidad de personas\") + scale_fill_discrete(name = \"Derrame\", labels = c(\"No\", \"Si\")) + \n",
    "       geom_text(stat='count', aes(label=..count..), vjust=-1)"
   ]
  },
  {
   "cell_type": "code",
   "execution_count": 44,
   "id": "ae676194",
   "metadata": {},
   "outputs": [],
   "source": [
    "write.table(data,\"Stroke_filtrado.txt\",row.names = FALSE,col.names = TRUE,sep = ',')"
   ]
  }
 ],
 "metadata": {
  "kernelspec": {
   "display_name": "R",
   "language": "R",
   "name": "ir"
  },
  "language_info": {
   "codemirror_mode": "r",
   "file_extension": ".r",
   "mimetype": "text/x-r-source",
   "name": "R",
   "pygments_lexer": "r",
   "version": "4.1.1"
  }
 },
 "nbformat": 4,
 "nbformat_minor": 5
}
